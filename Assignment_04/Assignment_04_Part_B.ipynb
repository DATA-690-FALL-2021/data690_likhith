{
  "nbformat": 4,
  "nbformat_minor": 0,
  "metadata": {
    "colab": {
      "name": "Assignment_04_Part_B.ipynb",
      "provenance": [],
      "collapsed_sections": [],
      "authorship_tag": "ABX9TyOv1uNZk0/46zx1QcA/7sx+",
      "include_colab_link": true
    },
    "kernelspec": {
      "name": "python3",
      "display_name": "Python 3"
    },
    "language_info": {
      "name": "python"
    }
  },
  "cells": [
    {
      "cell_type": "markdown",
      "metadata": {
        "id": "view-in-github",
        "colab_type": "text"
      },
      "source": [
        "<a href=\"https://colab.research.google.com/github/Likhith1702/data690_likhith/blob/main/Assignment_04/Assignment_04_Part_B.ipynb\" target=\"_parent\"><img src=\"https://colab.research.google.com/assets/colab-badge.svg\" alt=\"Open In Colab\"/></a>"
      ]
    },
    {
      "cell_type": "markdown",
      "metadata": {
        "id": "w8Zpstv-A8uq"
      },
      "source": [
        "# Assignment_04 \n",
        "\n",
        "## Professor: Jay Wang\n",
        "## Name: Likhith Kumar Reddy \n",
        "## Python and Panda work"
      ]
    },
    {
      "cell_type": "code",
      "metadata": {
        "colab": {
          "base_uri": "https://localhost:8080/"
        },
        "id": "l-F3WxCeAVfx",
        "outputId": "0fcab682-3bd4-4df3-fd92-72e0cde64d68"
      },
      "source": [
        "## reading the file \"census_costs.txt\" after saving it in to github\n",
        "\n",
        "with open(\"/content/census_costs.txt\", \"r\") as f:\n",
        "    line_list = f.readlines()\n",
        "\n",
        "print(line_list)"
      ],
      "execution_count": 235,
      "outputs": [
        {
          "output_type": "stream",
          "name": "stdout",
          "text": [
            "['Source: https://www.genealogybranches.com/censuscosts.html\\n', 'Census Year\\tTotal Population\\tCensus Cost\\tAverage Cost Per Person\\n', '1790\\t3,929,214\\t$44,377\\t1.13 cents\\n', '1800\\t5,308,483\\t$66,109\\t1.24 cents\\n', '1810\\t7,239,881\\t$178,445\\t2.46 cents\\n', '1820\\t9,633,822\\t$208,526\\t2.16 cents\\n', '1830\\t12,866,020\\t$378,545\\t2.94 cents\\n', '1840\\t17,069,458\\t$833,371\\t4.88 cents\\n', '1850\\t23,191,876\\t$1,423,351\\t6.14 cents\\n', '1860\\t31,443,321\\t$1,969,377\\t6.26 cents\\n', '1870\\t38,558,371\\t$3,421,198\\t8.87 cents\\n', '1880\\t50,155,783\\t$5,790,678\\t11.54 cents\\n', '1890\\t62,979,766\\t$11,547,127\\t18.33 cents\\n', '1900\\t76,303,387\\t$11,854,000\\t15.54 cents\\n', '1910\\t91,972,266\\t$15,968,000\\t17.07 cents\\n', '1920\\t105,710,620\\t$25,117,000\\t23.76 cents\\n', '1930\\t122,775,046\\t$40,156,000\\t32.71 cents\\n', '1940\\t131,669,275\\t$67,527,000\\t51.29 cents\\n', '1950\\t151,325,798\\t$91,462,000\\t60.44 cents\\n', '1960\\t179,323,175\\t$127,934,000\\t71.34 cents\\n', '1970\\t203,302,031\\t$247,653,000\\t$1.22\\n', '1980\\t226,542,199\\t$1,078,488,000\\t$4.76\\n', '1990\\t248,718,301\\t$2,492,830,000\\t$10.02\\n', '2000\\t281,421,906\\t$4.5 Billion\\t$15.99\\n', '2010*\\t308,745,538\\t$13 Billion\\t$42.11']\n"
          ]
        }
      ]
    },
    {
      "cell_type": "code",
      "metadata": {
        "colab": {
          "base_uri": "https://localhost:8080/"
        },
        "id": "_nwq_uV-DpH9",
        "outputId": "c069328f-ad31-41d4-98ed-91e397910318"
      },
      "source": [
        "top2_list=[]\n",
        "top2_list = line_list[0:2]\n",
        "print(top2_list)"
      ],
      "execution_count": 236,
      "outputs": [
        {
          "output_type": "stream",
          "name": "stdout",
          "text": [
            "['Source: https://www.genealogybranches.com/censuscosts.html\\n', 'Census Year\\tTotal Population\\tCensus Cost\\tAverage Cost Per Person\\n']\n"
          ]
        }
      ]
    },
    {
      "cell_type": "code",
      "metadata": {
        "colab": {
          "base_uri": "https://localhost:8080/"
        },
        "id": "U175UZzdQwDw",
        "outputId": "dc89bc96-921f-4bd1-ae4e-05807cbc9045"
      },
      "source": [
        "for line in top2_list:\n",
        "    print(line)"
      ],
      "execution_count": 237,
      "outputs": [
        {
          "output_type": "stream",
          "name": "stdout",
          "text": [
            "Source: https://www.genealogybranches.com/censuscosts.html\n",
            "\n",
            "Census Year\tTotal Population\tCensus Cost\tAverage Cost Per Person\n",
            "\n"
          ]
        }
      ]
    },
    {
      "cell_type": "code",
      "metadata": {
        "colab": {
          "base_uri": "https://localhost:8080/"
        },
        "id": "Ud_Kqc0RGhJg",
        "outputId": "8233fab6-5fb2-42dc-97b1-c1cea77beb20"
      },
      "source": [
        "data_list=[]\n",
        "data_list = line_list[2: ]\n",
        "print(data_list)"
      ],
      "execution_count": 238,
      "outputs": [
        {
          "output_type": "stream",
          "name": "stdout",
          "text": [
            "['1790\\t3,929,214\\t$44,377\\t1.13 cents\\n', '1800\\t5,308,483\\t$66,109\\t1.24 cents\\n', '1810\\t7,239,881\\t$178,445\\t2.46 cents\\n', '1820\\t9,633,822\\t$208,526\\t2.16 cents\\n', '1830\\t12,866,020\\t$378,545\\t2.94 cents\\n', '1840\\t17,069,458\\t$833,371\\t4.88 cents\\n', '1850\\t23,191,876\\t$1,423,351\\t6.14 cents\\n', '1860\\t31,443,321\\t$1,969,377\\t6.26 cents\\n', '1870\\t38,558,371\\t$3,421,198\\t8.87 cents\\n', '1880\\t50,155,783\\t$5,790,678\\t11.54 cents\\n', '1890\\t62,979,766\\t$11,547,127\\t18.33 cents\\n', '1900\\t76,303,387\\t$11,854,000\\t15.54 cents\\n', '1910\\t91,972,266\\t$15,968,000\\t17.07 cents\\n', '1920\\t105,710,620\\t$25,117,000\\t23.76 cents\\n', '1930\\t122,775,046\\t$40,156,000\\t32.71 cents\\n', '1940\\t131,669,275\\t$67,527,000\\t51.29 cents\\n', '1950\\t151,325,798\\t$91,462,000\\t60.44 cents\\n', '1960\\t179,323,175\\t$127,934,000\\t71.34 cents\\n', '1970\\t203,302,031\\t$247,653,000\\t$1.22\\n', '1980\\t226,542,199\\t$1,078,488,000\\t$4.76\\n', '1990\\t248,718,301\\t$2,492,830,000\\t$10.02\\n', '2000\\t281,421,906\\t$4.5 Billion\\t$15.99\\n', '2010*\\t308,745,538\\t$13 Billion\\t$42.11']\n"
          ]
        }
      ]
    },
    {
      "cell_type": "code",
      "metadata": {
        "colab": {
          "base_uri": "https://localhost:8080/"
        },
        "id": "vpDT1E6bQ_KU",
        "outputId": "6f8f19ed-60a8-412f-f380-18aa3f393f91"
      },
      "source": [
        "for line in data_list:\n",
        "    print(line)"
      ],
      "execution_count": 239,
      "outputs": [
        {
          "output_type": "stream",
          "name": "stdout",
          "text": [
            "1790\t3,929,214\t$44,377\t1.13 cents\n",
            "\n",
            "1800\t5,308,483\t$66,109\t1.24 cents\n",
            "\n",
            "1810\t7,239,881\t$178,445\t2.46 cents\n",
            "\n",
            "1820\t9,633,822\t$208,526\t2.16 cents\n",
            "\n",
            "1830\t12,866,020\t$378,545\t2.94 cents\n",
            "\n",
            "1840\t17,069,458\t$833,371\t4.88 cents\n",
            "\n",
            "1850\t23,191,876\t$1,423,351\t6.14 cents\n",
            "\n",
            "1860\t31,443,321\t$1,969,377\t6.26 cents\n",
            "\n",
            "1870\t38,558,371\t$3,421,198\t8.87 cents\n",
            "\n",
            "1880\t50,155,783\t$5,790,678\t11.54 cents\n",
            "\n",
            "1890\t62,979,766\t$11,547,127\t18.33 cents\n",
            "\n",
            "1900\t76,303,387\t$11,854,000\t15.54 cents\n",
            "\n",
            "1910\t91,972,266\t$15,968,000\t17.07 cents\n",
            "\n",
            "1920\t105,710,620\t$25,117,000\t23.76 cents\n",
            "\n",
            "1930\t122,775,046\t$40,156,000\t32.71 cents\n",
            "\n",
            "1940\t131,669,275\t$67,527,000\t51.29 cents\n",
            "\n",
            "1950\t151,325,798\t$91,462,000\t60.44 cents\n",
            "\n",
            "1960\t179,323,175\t$127,934,000\t71.34 cents\n",
            "\n",
            "1970\t203,302,031\t$247,653,000\t$1.22\n",
            "\n",
            "1980\t226,542,199\t$1,078,488,000\t$4.76\n",
            "\n",
            "1990\t248,718,301\t$2,492,830,000\t$10.02\n",
            "\n",
            "2000\t281,421,906\t$4.5 Billion\t$15.99\n",
            "\n",
            "2010*\t308,745,538\t$13 Billion\t$42.11\n"
          ]
        }
      ]
    },
    {
      "cell_type": "code",
      "metadata": {
        "colab": {
          "base_uri": "https://localhost:8080/"
        },
        "id": "elIZDfNoSSd-",
        "outputId": "b1a4d912-1556-4aa0-a83d-e18f1407a0ef"
      },
      "source": [
        "data_list"
      ],
      "execution_count": 247,
      "outputs": [
        {
          "output_type": "execute_result",
          "data": {
            "text/plain": [
              "['1790\\t3,929,214\\t$44,377\\t1.13 cents\\n',\n",
              " '1800\\t5,308,483\\t$66,109\\t1.24 cents\\n',\n",
              " '1810\\t7,239,881\\t$178,445\\t2.46 cents\\n',\n",
              " '1820\\t9,633,822\\t$208,526\\t2.16 cents\\n',\n",
              " '1830\\t12,866,020\\t$378,545\\t2.94 cents\\n',\n",
              " '1840\\t17,069,458\\t$833,371\\t4.88 cents\\n',\n",
              " '1850\\t23,191,876\\t$1,423,351\\t6.14 cents\\n',\n",
              " '1860\\t31,443,321\\t$1,969,377\\t6.26 cents\\n',\n",
              " '1870\\t38,558,371\\t$3,421,198\\t8.87 cents\\n',\n",
              " '1880\\t50,155,783\\t$5,790,678\\t11.54 cents\\n',\n",
              " '1890\\t62,979,766\\t$11,547,127\\t18.33 cents\\n',\n",
              " '1900\\t76,303,387\\t$11,854,000\\t15.54 cents\\n',\n",
              " '1910\\t91,972,266\\t$15,968,000\\t17.07 cents\\n',\n",
              " '1920\\t105,710,620\\t$25,117,000\\t23.76 cents\\n',\n",
              " '1930\\t122,775,046\\t$40,156,000\\t32.71 cents\\n',\n",
              " '1940\\t131,669,275\\t$67,527,000\\t51.29 cents\\n',\n",
              " '1950\\t151,325,798\\t$91,462,000\\t60.44 cents\\n',\n",
              " '1960\\t179,323,175\\t$127,934,000\\t71.34 cents\\n',\n",
              " '1970\\t203,302,031\\t$247,653,000\\t$1.22\\n',\n",
              " '1980\\t226,542,199\\t$1,078,488,000\\t$4.76\\n',\n",
              " '1990\\t248,718,301\\t$2,492,830,000\\t$10.02\\n',\n",
              " '2000\\t281,421,906\\t$4.5 Billion\\t$15.99\\n',\n",
              " '2010*\\t308,745,538\\t$13 Billion\\t$42.11']"
            ]
          },
          "metadata": {},
          "execution_count": 247
        }
      ]
    },
    {
      "cell_type": "code",
      "metadata": {
        "colab": {
          "base_uri": "https://localhost:8080/"
        },
        "id": "OYllp_ldIc1Z",
        "outputId": "be8e8b81-d843-4d98-cc57-eec0edb6f255"
      },
      "source": [
        "data_list=[x.replace(\",\",'').replace(\"$\",'').replace(\" Billion\",'000000000').replace(\"*\",'').replace(\".\",'').replace(\"cents\",'') for x in data_list]\n",
        "data_list"
      ],
      "execution_count": 281,
      "outputs": [
        {
          "output_type": "execute_result",
          "data": {
            "text/plain": [
              "['1790\\t3929214\\t44377\\t113 \\n',\n",
              " '1800\\t5308483\\t66109\\t124 \\n',\n",
              " '1810\\t7239881\\t178445\\t246 \\n',\n",
              " '1820\\t9633822\\t208526\\t216 \\n',\n",
              " '1830\\t12866020\\t378545\\t294 \\n',\n",
              " '1840\\t17069458\\t833371\\t488 \\n',\n",
              " '1850\\t23191876\\t1423351\\t614 \\n',\n",
              " '1860\\t31443321\\t1969377\\t626 \\n',\n",
              " '1870\\t38558371\\t3421198\\t887 \\n',\n",
              " '1880\\t50155783\\t5790678\\t1154 \\n',\n",
              " '1890\\t62979766\\t11547127\\t1833 \\n',\n",
              " '1900\\t76303387\\t11854000\\t1554 \\n',\n",
              " '1910\\t91972266\\t15968000\\t1707 \\n',\n",
              " '1920\\t105710620\\t25117000\\t2376 \\n',\n",
              " '1930\\t122775046\\t40156000\\t3271 \\n',\n",
              " '1940\\t131669275\\t67527000\\t5129 \\n',\n",
              " '1950\\t151325798\\t91462000\\t6044 \\n',\n",
              " '1960\\t179323175\\t127934000\\t7134 \\n',\n",
              " '1970\\t203302031\\t247653000\\t122\\n',\n",
              " '1980\\t226542199\\t1078488000\\t476\\n',\n",
              " '1990\\t248718301\\t2492830000\\t1002\\n',\n",
              " '2000\\t281421906\\t45000000000\\t1599\\n',\n",
              " '2010\\t308745538\\t13000000000\\t4211']"
            ]
          },
          "metadata": {},
          "execution_count": 281
        }
      ]
    },
    {
      "cell_type": "code",
      "metadata": {
        "colab": {
          "base_uri": "https://localhost:8080/"
        },
        "id": "CBCvfbffJ6P5",
        "outputId": "06593aa7-2a0f-4ca6-f90f-527ad52ada2c"
      },
      "source": [
        "for line in data_list:\n",
        "    print(line)"
      ],
      "execution_count": 282,
      "outputs": [
        {
          "output_type": "stream",
          "name": "stdout",
          "text": [
            "1790\t3929214\t44377\t113 \n",
            "\n",
            "1800\t5308483\t66109\t124 \n",
            "\n",
            "1810\t7239881\t178445\t246 \n",
            "\n",
            "1820\t9633822\t208526\t216 \n",
            "\n",
            "1830\t12866020\t378545\t294 \n",
            "\n",
            "1840\t17069458\t833371\t488 \n",
            "\n",
            "1850\t23191876\t1423351\t614 \n",
            "\n",
            "1860\t31443321\t1969377\t626 \n",
            "\n",
            "1870\t38558371\t3421198\t887 \n",
            "\n",
            "1880\t50155783\t5790678\t1154 \n",
            "\n",
            "1890\t62979766\t11547127\t1833 \n",
            "\n",
            "1900\t76303387\t11854000\t1554 \n",
            "\n",
            "1910\t91972266\t15968000\t1707 \n",
            "\n",
            "1920\t105710620\t25117000\t2376 \n",
            "\n",
            "1930\t122775046\t40156000\t3271 \n",
            "\n",
            "1940\t131669275\t67527000\t5129 \n",
            "\n",
            "1950\t151325798\t91462000\t6044 \n",
            "\n",
            "1960\t179323175\t127934000\t7134 \n",
            "\n",
            "1970\t203302031\t247653000\t122\n",
            "\n",
            "1980\t226542199\t1078488000\t476\n",
            "\n",
            "1990\t248718301\t2492830000\t1002\n",
            "\n",
            "2000\t281421906\t45000000000\t1599\n",
            "\n",
            "2010\t308745538\t13000000000\t4211\n"
          ]
        }
      ]
    },
    {
      "cell_type": "code",
      "metadata": {
        "colab": {
          "base_uri": "https://localhost:8080/"
        },
        "id": "KqthiubUQEgQ",
        "outputId": "f7c1c6a8-d0bc-402f-b468-2b90964aa165"
      },
      "source": [
        "year_list = [x.split('\\t')[0] for x in data_list]\n",
        "print(year_list)"
      ],
      "execution_count": 283,
      "outputs": [
        {
          "output_type": "stream",
          "name": "stdout",
          "text": [
            "['1790', '1800', '1810', '1820', '1830', '1840', '1850', '1860', '1870', '1880', '1890', '1900', '1910', '1920', '1930', '1940', '1950', '1960', '1970', '1980', '1990', '2000', '2010']\n"
          ]
        }
      ]
    },
    {
      "cell_type": "code",
      "metadata": {
        "colab": {
          "base_uri": "https://localhost:8080/"
        },
        "id": "2IMksODSQTIc",
        "outputId": "c33cf432-2378-4111-96d4-bf37fec86d66"
      },
      "source": [
        "Popu_list = [y.split('\\t')[1] for y in data_list]\n",
        "print(Popu_list)"
      ],
      "execution_count": 284,
      "outputs": [
        {
          "output_type": "stream",
          "name": "stdout",
          "text": [
            "['3929214', '5308483', '7239881', '9633822', '12866020', '17069458', '23191876', '31443321', '38558371', '50155783', '62979766', '76303387', '91972266', '105710620', '122775046', '131669275', '151325798', '179323175', '203302031', '226542199', '248718301', '281421906', '308745538']\n"
          ]
        }
      ]
    },
    {
      "cell_type": "code",
      "metadata": {
        "colab": {
          "base_uri": "https://localhost:8080/"
        },
        "id": "iHbi9MUgP2Pi",
        "outputId": "8f28674c-8d47-4ff9-a557-2fcf8c233ce8"
      },
      "source": [
        "cost_list=[c.split('\\t')[2] for c in data_list]\n",
        "print(cost_list)"
      ],
      "execution_count": 285,
      "outputs": [
        {
          "output_type": "stream",
          "name": "stdout",
          "text": [
            "['44377', '66109', '178445', '208526', '378545', '833371', '1423351', '1969377', '3421198', '5790678', '11547127', '11854000', '15968000', '25117000', '40156000', '67527000', '91462000', '127934000', '247653000', '1078488000', '2492830000', '45000000000', '13000000000']\n"
          ]
        }
      ]
    },
    {
      "cell_type": "code",
      "metadata": {
        "colab": {
          "base_uri": "https://localhost:8080/"
        },
        "id": "JNypm2LDQs9y",
        "outputId": "3b231a60-587f-462e-ba8e-4a08e8cf4fa1"
      },
      "source": [
        "Average_list1 = [z.split('\\t')[3] for z in data_list]\n",
        "print(Average_list1)"
      ],
      "execution_count": 315,
      "outputs": [
        {
          "output_type": "stream",
          "name": "stdout",
          "text": [
            "['113 \\n', '124 \\n', '246 \\n', '216 \\n', '294 \\n', '488 \\n', '614 \\n', '626 \\n', '887 \\n', '1154 \\n', '1833 \\n', '1554 \\n', '1707 \\n', '2376 \\n', '3271 \\n', '5129 \\n', '6044 \\n', '7134 \\n', '122\\n', '476\\n', '1002\\n', '1599\\n', '4211']\n"
          ]
        }
      ]
    },
    {
      "cell_type": "code",
      "metadata": {
        "colab": {
          "base_uri": "https://localhost:8080/"
        },
        "id": "MuVPdDXaTtXx",
        "outputId": "b6e2d0e4-9615-4153-c433-d011ccbe9dbf"
      },
      "source": [
        "for line in Average_list1:\n",
        "    string_to_int = int(line)\n",
        "    divide = string_to_int/100\n",
        "    print(divide) \n"
      ],
      "execution_count": 337,
      "outputs": [
        {
          "output_type": "stream",
          "name": "stdout",
          "text": [
            "1.13\n",
            "1.24\n",
            "2.46\n",
            "2.16\n",
            "2.94\n",
            "4.88\n",
            "6.14\n",
            "6.26\n",
            "8.87\n",
            "11.54\n",
            "18.33\n",
            "15.54\n",
            "17.07\n",
            "23.76\n",
            "32.71\n",
            "51.29\n",
            "60.44\n",
            "71.34\n",
            "1.22\n",
            "4.76\n",
            "10.02\n",
            "15.99\n",
            "42.11\n"
          ]
        }
      ]
    },
    {
      "cell_type": "code",
      "metadata": {
        "colab": {
          "base_uri": "https://localhost:8080/"
        },
        "id": "uur-6yz7YSIR",
        "outputId": "ca1ed014-de48-46d8-9270-fb28962f5849"
      },
      "source": [
        "data_list"
      ],
      "execution_count": 338,
      "outputs": [
        {
          "output_type": "execute_result",
          "data": {
            "text/plain": [
              "['1790\\t3929214\\t44377\\t113 \\n',\n",
              " '1800\\t5308483\\t66109\\t124 \\n',\n",
              " '1810\\t7239881\\t178445\\t246 \\n',\n",
              " '1820\\t9633822\\t208526\\t216 \\n',\n",
              " '1830\\t12866020\\t378545\\t294 \\n',\n",
              " '1840\\t17069458\\t833371\\t488 \\n',\n",
              " '1850\\t23191876\\t1423351\\t614 \\n',\n",
              " '1860\\t31443321\\t1969377\\t626 \\n',\n",
              " '1870\\t38558371\\t3421198\\t887 \\n',\n",
              " '1880\\t50155783\\t5790678\\t1154 \\n',\n",
              " '1890\\t62979766\\t11547127\\t1833 \\n',\n",
              " '1900\\t76303387\\t11854000\\t1554 \\n',\n",
              " '1910\\t91972266\\t15968000\\t1707 \\n',\n",
              " '1920\\t105710620\\t25117000\\t2376 \\n',\n",
              " '1930\\t122775046\\t40156000\\t3271 \\n',\n",
              " '1940\\t131669275\\t67527000\\t5129 \\n',\n",
              " '1950\\t151325798\\t91462000\\t6044 \\n',\n",
              " '1960\\t179323175\\t127934000\\t7134 \\n',\n",
              " '1970\\t203302031\\t247653000\\t122\\n',\n",
              " '1980\\t226542199\\t1078488000\\t476\\n',\n",
              " '1990\\t248718301\\t2492830000\\t1002\\n',\n",
              " '2000\\t281421906\\t45000000000\\t1599\\n',\n",
              " '2010\\t308745538\\t13000000000\\t4211']"
            ]
          },
          "metadata": {},
          "execution_count": 338
        }
      ]
    }
  ]
}