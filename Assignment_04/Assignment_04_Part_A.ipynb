{
  "nbformat": 4,
  "nbformat_minor": 0,
  "metadata": {
    "colab": {
      "name": "Assignment_04_Part_A.ipynb",
      "provenance": [],
      "collapsed_sections": [],
      "authorship_tag": "ABX9TyPYAHWzTXaiL4qetmV1mpNo",
      "include_colab_link": true
    },
    "kernelspec": {
      "name": "python3",
      "display_name": "Python 3"
    },
    "language_info": {
      "name": "python"
    }
  },
  "cells": [
    {
      "cell_type": "markdown",
      "metadata": {
        "id": "view-in-github",
        "colab_type": "text"
      },
      "source": [
        "<a href=\"https://colab.research.google.com/github/Likhith1702/data690_likhith/blob/main/Assignment_04/Assignment_04_Part_A.ipynb\" target=\"_parent\"><img src=\"https://colab.research.google.com/assets/colab-badge.svg\" alt=\"Open In Colab\"/></a>"
      ]
    },
    {
      "cell_type": "markdown",
      "metadata": {
        "id": "w8Zpstv-A8uq"
      },
      "source": [
        "# Assignment_04 \n",
        "\n",
        "## Professor: Jay Wang\n",
        "## Name: Likhith Kumar Reddy \n",
        "## Python and Panda work"
      ]
    },
    {
      "cell_type": "markdown",
      "metadata": {
        "id": "q4UHzF1Orht3"
      },
      "source": [
        "## Reading the file \"census_costs.txt\" after saving it in to github"
      ]
    },
    {
      "cell_type": "code",
      "metadata": {
        "colab": {
          "base_uri": "https://localhost:8080/"
        },
        "id": "l-F3WxCeAVfx",
        "outputId": "a73a03bc-c194-4d28-a65f-22dba461df8a"
      },
      "source": [
        "\n",
        "\n",
        "with open(\"/content/census_costs.txt\", \"r\") as f:\n",
        "    line_list = f.readlines()\n",
        "\n",
        "print(line_list)"
      ],
      "execution_count": 629,
      "outputs": [
        {
          "output_type": "stream",
          "name": "stdout",
          "text": [
            "['Source: https://www.genealogybranches.com/censuscosts.html\\n', 'Census Year\\tTotal Population\\tCensus Cost\\tAverage Cost Per Person\\n', '1790\\t3,929,214\\t$44,377\\t1.13 cents\\n', '1800\\t5,308,483\\t$66,109\\t1.24 cents\\n', '1810\\t7,239,881\\t$178,445\\t2.46 cents\\n', '1820\\t9,633,822\\t$208,526\\t2.16 cents\\n', '1830\\t12,866,020\\t$378,545\\t2.94 cents\\n', '1840\\t17,069,458\\t$833,371\\t4.88 cents\\n', '1850\\t23,191,876\\t$1,423,351\\t6.14 cents\\n', '1860\\t31,443,321\\t$1,969,377\\t6.26 cents\\n', '1870\\t38,558,371\\t$3,421,198\\t8.87 cents\\n', '1880\\t50,155,783\\t$5,790,678\\t11.54 cents\\n', '1890\\t62,979,766\\t$11,547,127\\t18.33 cents\\n', '1900\\t76,303,387\\t$11,854,000\\t15.54 cents\\n', '1910\\t91,972,266\\t$15,968,000\\t17.07 cents\\n', '1920\\t105,710,620\\t$25,117,000\\t23.76 cents\\n', '1930\\t122,775,046\\t$40,156,000\\t32.71 cents\\n', '1940\\t131,669,275\\t$67,527,000\\t51.29 cents\\n', '1950\\t151,325,798\\t$91,462,000\\t60.44 cents\\n', '1960\\t179,323,175\\t$127,934,000\\t71.34 cents\\n', '1970\\t203,302,031\\t$247,653,000\\t$1.22\\n', '1980\\t226,542,199\\t$1,078,488,000\\t$4.76\\n', '1990\\t248,718,301\\t$2,492,830,000\\t$10.02\\n', '2000\\t281,421,906\\t$4.5 Billion\\t$15.99\\n', '2010*\\t308,745,538\\t$13 Billion\\t$42.11']\n"
          ]
        }
      ]
    },
    {
      "cell_type": "markdown",
      "metadata": {
        "id": "WIkbVqU8rmIs"
      },
      "source": [
        "## Taking out the top two rows from the given file"
      ]
    },
    {
      "cell_type": "code",
      "metadata": {
        "colab": {
          "base_uri": "https://localhost:8080/"
        },
        "id": "_nwq_uV-DpH9",
        "outputId": "8402b083-8ab3-44b8-feed-94bd61049820"
      },
      "source": [
        "top2_list=[]\n",
        "top2_list = line_list[0:2]\n",
        "print(top2_list)"
      ],
      "execution_count": 630,
      "outputs": [
        {
          "output_type": "stream",
          "name": "stdout",
          "text": [
            "['Source: https://www.genealogybranches.com/censuscosts.html\\n', 'Census Year\\tTotal Population\\tCensus Cost\\tAverage Cost Per Person\\n']\n"
          ]
        }
      ]
    },
    {
      "cell_type": "code",
      "metadata": {
        "colab": {
          "base_uri": "https://localhost:8080/"
        },
        "id": "U175UZzdQwDw",
        "outputId": "6d163208-ced5-44bf-984a-9acd682d3cb9"
      },
      "source": [
        "for line in top2_list:\n",
        "    print(line)"
      ],
      "execution_count": 631,
      "outputs": [
        {
          "output_type": "stream",
          "name": "stdout",
          "text": [
            "Source: https://www.genealogybranches.com/censuscosts.html\n",
            "\n",
            "Census Year\tTotal Population\tCensus Cost\tAverage Cost Per Person\n",
            "\n"
          ]
        }
      ]
    },
    {
      "cell_type": "markdown",
      "metadata": {
        "id": "8q7FB-AcrxD8"
      },
      "source": [
        "## getting the usable data from the file and naming it as Date_list"
      ]
    },
    {
      "cell_type": "code",
      "metadata": {
        "colab": {
          "base_uri": "https://localhost:8080/"
        },
        "id": "Ud_Kqc0RGhJg",
        "outputId": "ea37e2e3-2237-4312-9b75-eaa0b351eaab"
      },
      "source": [
        "data_list=[]\n",
        "data_list = line_list[2: ]\n",
        "print(data_list)"
      ],
      "execution_count": 632,
      "outputs": [
        {
          "output_type": "stream",
          "name": "stdout",
          "text": [
            "['1790\\t3,929,214\\t$44,377\\t1.13 cents\\n', '1800\\t5,308,483\\t$66,109\\t1.24 cents\\n', '1810\\t7,239,881\\t$178,445\\t2.46 cents\\n', '1820\\t9,633,822\\t$208,526\\t2.16 cents\\n', '1830\\t12,866,020\\t$378,545\\t2.94 cents\\n', '1840\\t17,069,458\\t$833,371\\t4.88 cents\\n', '1850\\t23,191,876\\t$1,423,351\\t6.14 cents\\n', '1860\\t31,443,321\\t$1,969,377\\t6.26 cents\\n', '1870\\t38,558,371\\t$3,421,198\\t8.87 cents\\n', '1880\\t50,155,783\\t$5,790,678\\t11.54 cents\\n', '1890\\t62,979,766\\t$11,547,127\\t18.33 cents\\n', '1900\\t76,303,387\\t$11,854,000\\t15.54 cents\\n', '1910\\t91,972,266\\t$15,968,000\\t17.07 cents\\n', '1920\\t105,710,620\\t$25,117,000\\t23.76 cents\\n', '1930\\t122,775,046\\t$40,156,000\\t32.71 cents\\n', '1940\\t131,669,275\\t$67,527,000\\t51.29 cents\\n', '1950\\t151,325,798\\t$91,462,000\\t60.44 cents\\n', '1960\\t179,323,175\\t$127,934,000\\t71.34 cents\\n', '1970\\t203,302,031\\t$247,653,000\\t$1.22\\n', '1980\\t226,542,199\\t$1,078,488,000\\t$4.76\\n', '1990\\t248,718,301\\t$2,492,830,000\\t$10.02\\n', '2000\\t281,421,906\\t$4.5 Billion\\t$15.99\\n', '2010*\\t308,745,538\\t$13 Billion\\t$42.11']\n"
          ]
        }
      ]
    },
    {
      "cell_type": "code",
      "metadata": {
        "colab": {
          "base_uri": "https://localhost:8080/"
        },
        "id": "vpDT1E6bQ_KU",
        "outputId": "a82fc4d1-929a-4f2b-e9a0-41bfbd5957fa"
      },
      "source": [
        "for line in data_list:\n",
        "    print(line)"
      ],
      "execution_count": 633,
      "outputs": [
        {
          "output_type": "stream",
          "name": "stdout",
          "text": [
            "1790\t3,929,214\t$44,377\t1.13 cents\n",
            "\n",
            "1800\t5,308,483\t$66,109\t1.24 cents\n",
            "\n",
            "1810\t7,239,881\t$178,445\t2.46 cents\n",
            "\n",
            "1820\t9,633,822\t$208,526\t2.16 cents\n",
            "\n",
            "1830\t12,866,020\t$378,545\t2.94 cents\n",
            "\n",
            "1840\t17,069,458\t$833,371\t4.88 cents\n",
            "\n",
            "1850\t23,191,876\t$1,423,351\t6.14 cents\n",
            "\n",
            "1860\t31,443,321\t$1,969,377\t6.26 cents\n",
            "\n",
            "1870\t38,558,371\t$3,421,198\t8.87 cents\n",
            "\n",
            "1880\t50,155,783\t$5,790,678\t11.54 cents\n",
            "\n",
            "1890\t62,979,766\t$11,547,127\t18.33 cents\n",
            "\n",
            "1900\t76,303,387\t$11,854,000\t15.54 cents\n",
            "\n",
            "1910\t91,972,266\t$15,968,000\t17.07 cents\n",
            "\n",
            "1920\t105,710,620\t$25,117,000\t23.76 cents\n",
            "\n",
            "1930\t122,775,046\t$40,156,000\t32.71 cents\n",
            "\n",
            "1940\t131,669,275\t$67,527,000\t51.29 cents\n",
            "\n",
            "1950\t151,325,798\t$91,462,000\t60.44 cents\n",
            "\n",
            "1960\t179,323,175\t$127,934,000\t71.34 cents\n",
            "\n",
            "1970\t203,302,031\t$247,653,000\t$1.22\n",
            "\n",
            "1980\t226,542,199\t$1,078,488,000\t$4.76\n",
            "\n",
            "1990\t248,718,301\t$2,492,830,000\t$10.02\n",
            "\n",
            "2000\t281,421,906\t$4.5 Billion\t$15.99\n",
            "\n",
            "2010*\t308,745,538\t$13 Billion\t$42.11\n"
          ]
        }
      ]
    },
    {
      "cell_type": "code",
      "metadata": {
        "colab": {
          "base_uri": "https://localhost:8080/"
        },
        "id": "elIZDfNoSSd-",
        "outputId": "2a0817a6-b20b-4b72-fcda-3c4b440385e5"
      },
      "source": [
        "data_list"
      ],
      "execution_count": 634,
      "outputs": [
        {
          "output_type": "execute_result",
          "data": {
            "text/plain": [
              "['1790\\t3,929,214\\t$44,377\\t1.13 cents\\n',\n",
              " '1800\\t5,308,483\\t$66,109\\t1.24 cents\\n',\n",
              " '1810\\t7,239,881\\t$178,445\\t2.46 cents\\n',\n",
              " '1820\\t9,633,822\\t$208,526\\t2.16 cents\\n',\n",
              " '1830\\t12,866,020\\t$378,545\\t2.94 cents\\n',\n",
              " '1840\\t17,069,458\\t$833,371\\t4.88 cents\\n',\n",
              " '1850\\t23,191,876\\t$1,423,351\\t6.14 cents\\n',\n",
              " '1860\\t31,443,321\\t$1,969,377\\t6.26 cents\\n',\n",
              " '1870\\t38,558,371\\t$3,421,198\\t8.87 cents\\n',\n",
              " '1880\\t50,155,783\\t$5,790,678\\t11.54 cents\\n',\n",
              " '1890\\t62,979,766\\t$11,547,127\\t18.33 cents\\n',\n",
              " '1900\\t76,303,387\\t$11,854,000\\t15.54 cents\\n',\n",
              " '1910\\t91,972,266\\t$15,968,000\\t17.07 cents\\n',\n",
              " '1920\\t105,710,620\\t$25,117,000\\t23.76 cents\\n',\n",
              " '1930\\t122,775,046\\t$40,156,000\\t32.71 cents\\n',\n",
              " '1940\\t131,669,275\\t$67,527,000\\t51.29 cents\\n',\n",
              " '1950\\t151,325,798\\t$91,462,000\\t60.44 cents\\n',\n",
              " '1960\\t179,323,175\\t$127,934,000\\t71.34 cents\\n',\n",
              " '1970\\t203,302,031\\t$247,653,000\\t$1.22\\n',\n",
              " '1980\\t226,542,199\\t$1,078,488,000\\t$4.76\\n',\n",
              " '1990\\t248,718,301\\t$2,492,830,000\\t$10.02\\n',\n",
              " '2000\\t281,421,906\\t$4.5 Billion\\t$15.99\\n',\n",
              " '2010*\\t308,745,538\\t$13 Billion\\t$42.11']"
            ]
          },
          "metadata": {},
          "execution_count": 634
        }
      ]
    },
    {
      "cell_type": "markdown",
      "metadata": {
        "id": "S8ER7Mx6sGXO"
      },
      "source": [
        "## Cleaning the data from data_list\n",
        "- using replace option to remove puntuations from the date set\n",
        "- replacing words with numbers "
      ]
    },
    {
      "cell_type": "code",
      "metadata": {
        "colab": {
          "base_uri": "https://localhost:8080/"
        },
        "id": "OYllp_ldIc1Z",
        "outputId": "946b9322-d05c-4807-e92c-7bab20442212"
      },
      "source": [
        "data_list=[x.replace(\",\",'').replace(\"$\",'').replace(\" Billion\",'000000000').replace(\"*\",'').replace(\"cents\",'') for x in data_list]\n",
        "data_list"
      ],
      "execution_count": 635,
      "outputs": [
        {
          "output_type": "execute_result",
          "data": {
            "text/plain": [
              "['1790\\t3929214\\t44377\\t1.13 \\n',\n",
              " '1800\\t5308483\\t66109\\t1.24 \\n',\n",
              " '1810\\t7239881\\t178445\\t2.46 \\n',\n",
              " '1820\\t9633822\\t208526\\t2.16 \\n',\n",
              " '1830\\t12866020\\t378545\\t2.94 \\n',\n",
              " '1840\\t17069458\\t833371\\t4.88 \\n',\n",
              " '1850\\t23191876\\t1423351\\t6.14 \\n',\n",
              " '1860\\t31443321\\t1969377\\t6.26 \\n',\n",
              " '1870\\t38558371\\t3421198\\t8.87 \\n',\n",
              " '1880\\t50155783\\t5790678\\t11.54 \\n',\n",
              " '1890\\t62979766\\t11547127\\t18.33 \\n',\n",
              " '1900\\t76303387\\t11854000\\t15.54 \\n',\n",
              " '1910\\t91972266\\t15968000\\t17.07 \\n',\n",
              " '1920\\t105710620\\t25117000\\t23.76 \\n',\n",
              " '1930\\t122775046\\t40156000\\t32.71 \\n',\n",
              " '1940\\t131669275\\t67527000\\t51.29 \\n',\n",
              " '1950\\t151325798\\t91462000\\t60.44 \\n',\n",
              " '1960\\t179323175\\t127934000\\t71.34 \\n',\n",
              " '1970\\t203302031\\t247653000\\t1.22\\n',\n",
              " '1980\\t226542199\\t1078488000\\t4.76\\n',\n",
              " '1990\\t248718301\\t2492830000\\t10.02\\n',\n",
              " '2000\\t281421906\\t4.5000000000\\t15.99\\n',\n",
              " '2010\\t308745538\\t13000000000\\t42.11']"
            ]
          },
          "metadata": {},
          "execution_count": 635
        }
      ]
    },
    {
      "cell_type": "code",
      "metadata": {
        "colab": {
          "base_uri": "https://localhost:8080/"
        },
        "id": "CBCvfbffJ6P5",
        "outputId": "9f554cfa-36e1-4c28-8d52-80d789558548"
      },
      "source": [
        "for line in data_list:\n",
        "    print(line)"
      ],
      "execution_count": 636,
      "outputs": [
        {
          "output_type": "stream",
          "name": "stdout",
          "text": [
            "1790\t3929214\t44377\t1.13 \n",
            "\n",
            "1800\t5308483\t66109\t1.24 \n",
            "\n",
            "1810\t7239881\t178445\t2.46 \n",
            "\n",
            "1820\t9633822\t208526\t2.16 \n",
            "\n",
            "1830\t12866020\t378545\t2.94 \n",
            "\n",
            "1840\t17069458\t833371\t4.88 \n",
            "\n",
            "1850\t23191876\t1423351\t6.14 \n",
            "\n",
            "1860\t31443321\t1969377\t6.26 \n",
            "\n",
            "1870\t38558371\t3421198\t8.87 \n",
            "\n",
            "1880\t50155783\t5790678\t11.54 \n",
            "\n",
            "1890\t62979766\t11547127\t18.33 \n",
            "\n",
            "1900\t76303387\t11854000\t15.54 \n",
            "\n",
            "1910\t91972266\t15968000\t17.07 \n",
            "\n",
            "1920\t105710620\t25117000\t23.76 \n",
            "\n",
            "1930\t122775046\t40156000\t32.71 \n",
            "\n",
            "1940\t131669275\t67527000\t51.29 \n",
            "\n",
            "1950\t151325798\t91462000\t60.44 \n",
            "\n",
            "1960\t179323175\t127934000\t71.34 \n",
            "\n",
            "1970\t203302031\t247653000\t1.22\n",
            "\n",
            "1980\t226542199\t1078488000\t4.76\n",
            "\n",
            "1990\t248718301\t2492830000\t10.02\n",
            "\n",
            "2000\t281421906\t4.5000000000\t15.99\n",
            "\n",
            "2010\t308745538\t13000000000\t42.11\n"
          ]
        }
      ]
    },
    {
      "cell_type": "markdown",
      "metadata": {
        "id": "uN7xc0Dzsj-j"
      },
      "source": [
        "## Seperating the Year list from the data frame using split function\n",
        "- Getting the type for the same"
      ]
    },
    {
      "cell_type": "code",
      "metadata": {
        "colab": {
          "base_uri": "https://localhost:8080/"
        },
        "id": "KqthiubUQEgQ",
        "outputId": "5b42c5ff-5558-40a5-83b5-1065e02262a3"
      },
      "source": [
        "year_list = [x.split('\\t')[0] for x in data_list]\n",
        "print(year_list)"
      ],
      "execution_count": 637,
      "outputs": [
        {
          "output_type": "stream",
          "name": "stdout",
          "text": [
            "['1790', '1800', '1810', '1820', '1830', '1840', '1850', '1860', '1870', '1880', '1890', '1900', '1910', '1920', '1930', '1940', '1950', '1960', '1970', '1980', '1990', '2000', '2010']\n"
          ]
        }
      ]
    },
    {
      "cell_type": "markdown",
      "metadata": {
        "id": "MXmL80kusvms"
      },
      "source": [
        "## Seperating the Population list from the data frame using split function\n",
        "- Getting the type for the same"
      ]
    },
    {
      "cell_type": "code",
      "metadata": {
        "colab": {
          "base_uri": "https://localhost:8080/"
        },
        "id": "2IMksODSQTIc",
        "outputId": "aef30cc3-7603-4cad-8c22-be1ade1cde69"
      },
      "source": [
        "Popu_list = [y.split('\\t')[1] for y in data_list]\n",
        "print(Popu_list)"
      ],
      "execution_count": 638,
      "outputs": [
        {
          "output_type": "stream",
          "name": "stdout",
          "text": [
            "['3929214', '5308483', '7239881', '9633822', '12866020', '17069458', '23191876', '31443321', '38558371', '50155783', '62979766', '76303387', '91972266', '105710620', '122775046', '131669275', '151325798', '179323175', '203302031', '226542199', '248718301', '281421906', '308745538']\n"
          ]
        }
      ]
    },
    {
      "cell_type": "markdown",
      "metadata": {
        "id": "hw-l1uybs0tc"
      },
      "source": [
        "## Seperating the cost list from the data frame using split function\n",
        "- Getting the type for the same"
      ]
    },
    {
      "cell_type": "code",
      "metadata": {
        "colab": {
          "base_uri": "https://localhost:8080/"
        },
        "id": "iHbi9MUgP2Pi",
        "outputId": "7a8b13ef-4650-444c-8cd8-28d659d81a4e"
      },
      "source": [
        "cost_list=[c.split('\\t')[2] for c in data_list]\n",
        "print(cost_list)\n",
        "print(type(cost_list))"
      ],
      "execution_count": 639,
      "outputs": [
        {
          "output_type": "stream",
          "name": "stdout",
          "text": [
            "['44377', '66109', '178445', '208526', '378545', '833371', '1423351', '1969377', '3421198', '5790678', '11547127', '11854000', '15968000', '25117000', '40156000', '67527000', '91462000', '127934000', '247653000', '1078488000', '2492830000', '4.5000000000', '13000000000']\n",
            "<class 'list'>\n"
          ]
        }
      ]
    },
    {
      "cell_type": "markdown",
      "metadata": {
        "id": "9V6Lw3V1s4LM"
      },
      "source": [
        "## Seperating the Average cost list from the data frame using split function\n",
        "- Getting the type for the same"
      ]
    },
    {
      "cell_type": "code",
      "metadata": {
        "colab": {
          "base_uri": "https://localhost:8080/"
        },
        "id": "JNypm2LDQs9y",
        "outputId": "3acf1223-d3f2-4d07-db97-302a010e7db0"
      },
      "source": [
        "Average_list1 = [z.split('\\t')[3] for z in data_list]\n",
        "print(Average_list1)\n",
        "print(type(Average_list1))"
      ],
      "execution_count": 640,
      "outputs": [
        {
          "output_type": "stream",
          "name": "stdout",
          "text": [
            "['1.13 \\n', '1.24 \\n', '2.46 \\n', '2.16 \\n', '2.94 \\n', '4.88 \\n', '6.14 \\n', '6.26 \\n', '8.87 \\n', '11.54 \\n', '18.33 \\n', '15.54 \\n', '17.07 \\n', '23.76 \\n', '32.71 \\n', '51.29 \\n', '60.44 \\n', '71.34 \\n', '1.22\\n', '4.76\\n', '10.02\\n', '15.99\\n', '42.11']\n",
            "<class 'list'>\n"
          ]
        }
      ]
    },
    {
      "cell_type": "markdown",
      "metadata": {
        "id": "KcHWH4o3tFHp"
      },
      "source": [
        "## Correcting the same and changing the same into correct data\n",
        "- Multiplying the same with 100 for the ones that are needed\n",
        "- getting the float back to  list for easy use format"
      ]
    },
    {
      "cell_type": "code",
      "metadata": {
        "colab": {
          "base_uri": "https://localhost:8080/"
        },
        "id": "vD4MkH05k9vo",
        "outputId": "db041f64-f3e6-44c2-e958-556a9c863a70"
      },
      "source": [
        "Average_list1=[float(element) for element in Average_list1]\n",
        "Average_list=[element/100 for element in Average_list1]\n",
        "print(Average_list)\n",
        "print(type(Average_list))"
      ],
      "execution_count": 641,
      "outputs": [
        {
          "output_type": "stream",
          "name": "stdout",
          "text": [
            "[0.0113, 0.0124, 0.0246, 0.0216, 0.0294, 0.048799999999999996, 0.061399999999999996, 0.0626, 0.08869999999999999, 0.11539999999999999, 0.1833, 0.15539999999999998, 0.1707, 0.2376, 0.3271, 0.5129, 0.6043999999999999, 0.7134, 0.012199999999999999, 0.047599999999999996, 0.1002, 0.15990000000000001, 0.4211]\n",
            "<class 'list'>\n"
          ]
        }
      ]
    },
    {
      "cell_type": "markdown",
      "metadata": {
        "id": "znGoWa7StUc4"
      },
      "source": [
        "## Coalesce the cleansed data and save them to a text file named \"census_cost.csv\"."
      ]
    },
    {
      "cell_type": "code",
      "metadata": {
        "id": "b28ZTLqKihbC"
      },
      "source": [
        "Average_list=[str(element) for element in Average_list]\n",
        "Final_list = [list(a) for a in zip(year_list, Popu_list, cost_list, Average_list)]"
      ],
      "execution_count": 642,
      "outputs": []
    },
    {
      "cell_type": "markdown",
      "metadata": {
        "id": "dH0Dy67UtlDS"
      },
      "source": [
        "## getting the top 2 rows into our list from the beginning"
      ]
    },
    {
      "cell_type": "code",
      "metadata": {
        "id": "37qn7RFgmZF7"
      },
      "source": [
        "with open('census_cost.csv', 'w') as f:\n",
        "    for item in top2_list:\n",
        "        f.write(\"%s\\n\" % item)"
      ],
      "execution_count": 643,
      "outputs": []
    },
    {
      "cell_type": "markdown",
      "metadata": {
        "id": "ViG8X-4Ot3GU"
      },
      "source": [
        "## creating a Final_list for the same"
      ]
    },
    {
      "cell_type": "code",
      "metadata": {
        "id": "7v6LWjsRmuqu"
      },
      "source": [
        "for i in range(len(Final_list)):\n",
        "  for j in range(len(Final_list[i])) :\n",
        "        print(Final_list[i][j], end=\"  \", file=open(\"census_cost.csv\", \"a\"))\n",
        "  print(\"\\n\",file=open(\"census_cost.csv\", \"a\"))"
      ],
      "execution_count": 644,
      "outputs": []
    },
    {
      "cell_type": "markdown",
      "metadata": {
        "id": "Gt6AtGJknnQp"
      },
      "source": [
        "- printing the final list for the same."
      ]
    },
    {
      "cell_type": "code",
      "metadata": {
        "colab": {
          "base_uri": "https://localhost:8080/"
        },
        "id": "aAgdI1DynoGw",
        "outputId": "fddf9bad-cbec-42c4-f145-5a4b591c5d1c"
      },
      "source": [
        "with open(\"census_cost.csv\") as file_in:\n",
        "    for line in file_in:\n",
        "        print(line)"
      ],
      "execution_count": 645,
      "outputs": [
        {
          "output_type": "stream",
          "name": "stdout",
          "text": [
            "Source: https://www.genealogybranches.com/censuscosts.html\n",
            "\n",
            "\n",
            "\n",
            "Census Year\tTotal Population\tCensus Cost\tAverage Cost Per Person\n",
            "\n",
            "\n",
            "\n",
            "1790  3929214  44377  0.0113  \n",
            "\n",
            "\n",
            "\n",
            "1800  5308483  66109  0.0124  \n",
            "\n",
            "\n",
            "\n",
            "1810  7239881  178445  0.0246  \n",
            "\n",
            "\n",
            "\n",
            "1820  9633822  208526  0.0216  \n",
            "\n",
            "\n",
            "\n",
            "1830  12866020  378545  0.0294  \n",
            "\n",
            "\n",
            "\n",
            "1840  17069458  833371  0.048799999999999996  \n",
            "\n",
            "\n",
            "\n",
            "1850  23191876  1423351  0.061399999999999996  \n",
            "\n",
            "\n",
            "\n",
            "1860  31443321  1969377  0.0626  \n",
            "\n",
            "\n",
            "\n",
            "1870  38558371  3421198  0.08869999999999999  \n",
            "\n",
            "\n",
            "\n",
            "1880  50155783  5790678  0.11539999999999999  \n",
            "\n",
            "\n",
            "\n",
            "1890  62979766  11547127  0.1833  \n",
            "\n",
            "\n",
            "\n",
            "1900  76303387  11854000  0.15539999999999998  \n",
            "\n",
            "\n",
            "\n",
            "1910  91972266  15968000  0.1707  \n",
            "\n",
            "\n",
            "\n",
            "1920  105710620  25117000  0.2376  \n",
            "\n",
            "\n",
            "\n",
            "1930  122775046  40156000  0.3271  \n",
            "\n",
            "\n",
            "\n",
            "1940  131669275  67527000  0.5129  \n",
            "\n",
            "\n",
            "\n",
            "1950  151325798  91462000  0.6043999999999999  \n",
            "\n",
            "\n",
            "\n",
            "1960  179323175  127934000  0.7134  \n",
            "\n",
            "\n",
            "\n",
            "1970  203302031  247653000  0.012199999999999999  \n",
            "\n",
            "\n",
            "\n",
            "1980  226542199  1078488000  0.047599999999999996  \n",
            "\n",
            "\n",
            "\n",
            "1990  248718301  2492830000  0.1002  \n",
            "\n",
            "\n",
            "\n",
            "2000  281421906  4.5000000000  0.15990000000000001  \n",
            "\n",
            "\n",
            "\n",
            "2010  308745538  13000000000  0.4211  \n",
            "\n",
            "\n",
            "\n"
          ]
        }
      ]
    },
    {
      "cell_type": "markdown",
      "metadata": {
        "id": "CRcAOM9EutYo"
      },
      "source": [
        "## Reference\n",
        "\n",
        "-  https://www.journaldev.com/23674/python-remove-character-from-string\n",
        "-  https://stackoverflow.com/questions/36877883/how-to-remove-a-comma-from-a-list/36878132\n",
        "-  https://www.pythoncentral.io/multiplying-dividing-numbers-python/\n",
        "-  https://www.codegrepper.com/code-examples/python/how+to+extract+columns+from+dataframe+in+python\n",
        "-  https://www.programiz.com/python-programming/methods/list/append\n",
        "-  https://www.geeksforgeeks.org/how-to-convert-string-to-integer-in-python/"
      ]
    }
  ]
}