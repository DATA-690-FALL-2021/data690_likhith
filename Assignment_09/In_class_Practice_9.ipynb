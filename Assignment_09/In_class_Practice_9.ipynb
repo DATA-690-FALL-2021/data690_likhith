{
  "nbformat": 4,
  "nbformat_minor": 0,
  "metadata": {
    "colab": {
      "name": "In_class_Practice_9.ipynb",
      "provenance": [],
      "authorship_tag": "ABX9TyNkiAxp06olVkFl72LYqC8q",
      "include_colab_link": true
    },
    "kernelspec": {
      "name": "python3",
      "display_name": "Python 3"
    },
    "language_info": {
      "name": "python"
    }
  },
  "cells": [
    {
      "cell_type": "markdown",
      "metadata": {
        "id": "view-in-github",
        "colab_type": "text"
      },
      "source": [
        "<a href=\"https://colab.research.google.com/github/Likhith1702/data690_likhith/blob/main/Assignment_09/In_class_Practice_9.ipynb\" target=\"_parent\"><img src=\"https://colab.research.google.com/assets/colab-badge.svg\" alt=\"Open In Colab\"/></a>"
      ]
    },
    {
      "cell_type": "markdown",
      "metadata": {
        "id": "euBzH1ZMRE2J"
      },
      "source": [
        "# In Class Practice Session 9\n",
        "\n",
        "- Name : Likhith Reddy\n",
        "- Professor : Jay Wang\n",
        "- Date : 10/28/2021"
      ]
    },
    {
      "cell_type": "code",
      "metadata": {
        "id": "7QSrbOO4Q3fB"
      },
      "source": [
        "import math_function as mf"
      ],
      "execution_count": 1,
      "outputs": []
    },
    {
      "cell_type": "code",
      "metadata": {
        "colab": {
          "base_uri": "https://localhost:8080/"
        },
        "id": "_ThbLfRbR6CM",
        "outputId": "0aadb3e5-f5b4-4903-edfe-84a2e337f9f1"
      },
      "source": [
        "a = input(\"enter a number:\")\n",
        "print(a)"
      ],
      "execution_count": 2,
      "outputs": [
        {
          "output_type": "stream",
          "name": "stdout",
          "text": [
            "enter a number:100\n",
            "100\n"
          ]
        }
      ]
    },
    {
      "cell_type": "code",
      "metadata": {
        "colab": {
          "base_uri": "https://localhost:8080/"
        },
        "id": "OQMpe84PSBt3",
        "outputId": "edd5d634-a402-4d15-8a35-808040588805"
      },
      "source": [
        "b = input(\"enter a number:\")\n",
        "print(b)"
      ],
      "execution_count": 3,
      "outputs": [
        {
          "output_type": "stream",
          "name": "stdout",
          "text": [
            "enter a number:200\n",
            "200\n"
          ]
        }
      ]
    },
    {
      "cell_type": "code",
      "metadata": {
        "colab": {
          "base_uri": "https://localhost:8080/"
        },
        "id": "UiUoCmumSVi0",
        "outputId": "c1db5806-0521-49f9-f903-b88a2945b161"
      },
      "source": [
        "c = mf.addition(a, b)\n",
        "print(c)"
      ],
      "execution_count": 4,
      "outputs": [
        {
          "output_type": "stream",
          "name": "stdout",
          "text": [
            "100200\n"
          ]
        }
      ]
    },
    {
      "cell_type": "code",
      "metadata": {
        "id": "UgibtTEhS5zm"
      },
      "source": [
        "# c = mf.addition(int(a), int(b))\n",
        "# print(c)"
      ],
      "execution_count": 5,
      "outputs": []
    },
    {
      "cell_type": "code",
      "metadata": {
        "id": "Rw0ZrfuqSeRy"
      },
      "source": [
        "# d = mf.subtraction(int(a), int(b))\n",
        "# print(d)"
      ],
      "execution_count": 6,
      "outputs": []
    },
    {
      "cell_type": "code",
      "metadata": {
        "colab": {
          "base_uri": "https://localhost:8080/"
        },
        "id": "gMRKHxHlSu9k",
        "outputId": "4700496e-2326-48fc-e0b4-902354bd0e66"
      },
      "source": [
        "a = 28\n",
        "b = 50\n",
        "\n",
        "c = mf.addition(a, b)\n",
        "\n",
        "print(c)"
      ],
      "execution_count": 7,
      "outputs": [
        {
          "output_type": "stream",
          "name": "stdout",
          "text": [
            "78\n"
          ]
        }
      ]
    },
    {
      "cell_type": "code",
      "metadata": {
        "id": "gJzOOH7uV0Cv"
      },
      "source": [
        ""
      ],
      "execution_count": null,
      "outputs": []
    }
  ]
}