{
  "nbformat": 4,
  "nbformat_minor": 0,
  "metadata": {
    "colab": {
      "name": "session_03_in_class.ipynb",
      "provenance": [],
      "authorship_tag": "ABX9TyMUsu6y7ULmdp9UosO2dMKL",
      "include_colab_link": true
    },
    "kernelspec": {
      "name": "python3",
      "display_name": "Python 3"
    },
    "language_info": {
      "name": "python"
    }
  },
  "cells": [
    {
      "cell_type": "markdown",
      "metadata": {
        "id": "view-in-github",
        "colab_type": "text"
      },
      "source": [
        "<a href=\"https://colab.research.google.com/github/Likhith1702/data690_likhith/blob/main/Assignment_03/session_03_in_class.ipynb\" target=\"_parent\"><img src=\"https://colab.research.google.com/assets/colab-badge.svg\" alt=\"Open In Colab\"/></a>"
      ]
    },
    {
      "cell_type": "markdown",
      "metadata": {
        "id": "d--3R2OB8bnH"
      },
      "source": [
        "# Session 3 in-class Practice\n",
        "- Likhith Reddy\n",
        "- September 16"
      ]
    },
    {
      "cell_type": "markdown",
      "metadata": {
        "id": "_qEHfEzy83NS"
      },
      "source": [
        "# 1. List Comprehension"
      ]
    },
    {
      "cell_type": "code",
      "metadata": {
        "colab": {
          "base_uri": "https://localhost:8080/"
        },
        "id": "AyjQW_aC8XXy",
        "outputId": "3e2d55c4-b604-4e73-8e9c-2c003d5c7e3a"
      },
      "source": [
        "# this is traditional way of using \"for\" loop\n",
        "\n",
        "x = [2, 5, -7, 10, 17]\n",
        "\n",
        "y = []\n",
        "\n",
        "for i in x:\n",
        "    new_number = i + 10\n",
        "    print(new_number)\n",
        "    y.append(new_number)\n",
        "\n",
        "print(y)\n"
      ],
      "execution_count": 3,
      "outputs": [
        {
          "output_type": "stream",
          "name": "stdout",
          "text": [
            "12\n",
            "15\n",
            "3\n",
            "20\n",
            "27\n",
            "[12, 15, 3, 20, 27]\n"
          ]
        }
      ]
    },
    {
      "cell_type": "code",
      "metadata": {
        "colab": {
          "base_uri": "https://localhost:8080/"
        },
        "id": "MEWikcQh-ohO",
        "outputId": "d1b1db03-dd9c-48e9-dde5-b57a0fcf868c"
      },
      "source": [
        "#  a new way using list comprehension\n",
        "\n",
        "y = [i + 10 for i in x]\n",
        "\n",
        "print(y)"
      ],
      "execution_count": 4,
      "outputs": [
        {
          "output_type": "stream",
          "name": "stdout",
          "text": [
            "[12, 15, 3, 20, 27]\n"
          ]
        }
      ]
    },
    {
      "cell_type": "markdown",
      "metadata": {
        "id": "b7m2F3L4-7QL"
      },
      "source": [
        "# 2. User Defined Function"
      ]
    },
    {
      "cell_type": "markdown",
      "metadata": {
        "id": "0_hjehoTARBc"
      },
      "source": [
        "- addition"
      ]
    },
    {
      "cell_type": "code",
      "metadata": {
        "id": "fFyyDO2t-60F"
      },
      "source": [
        "def addition(a, b):\n",
        "    return a + b\n"
      ],
      "execution_count": 7,
      "outputs": []
    },
    {
      "cell_type": "code",
      "metadata": {
        "colab": {
          "base_uri": "https://localhost:8080/"
        },
        "id": "jHA--Ldb_pyO",
        "outputId": "d04a07c9-fff1-4fb1-9adc-0226f5f023ee"
      },
      "source": [
        "y = addition(5,10)\n",
        "print(y)"
      ],
      "execution_count": 8,
      "outputs": [
        {
          "output_type": "stream",
          "name": "stdout",
          "text": [
            "15\n"
          ]
        }
      ]
    },
    {
      "cell_type": "markdown",
      "metadata": {
        "id": "wdcevv4NAVAM"
      },
      "source": [
        "- division"
      ]
    },
    {
      "cell_type": "code",
      "metadata": {
        "id": "1nd9EV7Z_1Wv"
      },
      "source": [
        "def division(a , b):\n",
        "    return a / b"
      ],
      "execution_count": 9,
      "outputs": []
    },
    {
      "cell_type": "code",
      "metadata": {
        "colab": {
          "base_uri": "https://localhost:8080/"
        },
        "id": "CC3rKwXiABVK",
        "outputId": "0c8726b3-2e12-489c-9abd-6d9e0450a1b0"
      },
      "source": [
        "w = division (10,5)\n",
        "print(w)"
      ],
      "execution_count": 11,
      "outputs": [
        {
          "output_type": "stream",
          "name": "stdout",
          "text": [
            "2.0\n"
          ]
        }
      ]
    },
    {
      "cell_type": "markdown",
      "metadata": {
        "id": "yYrN-vg4CXV2"
      },
      "source": [
        "# 3. Data Wrangling"
      ]
    },
    {
      "cell_type": "markdown",
      "metadata": {
        "id": "ZoskYqcZETfi"
      },
      "source": [
        "- Ctrl + { \n",
        "  moves the text 4 spaces twards left\n",
        "- Ctrl + } moves the  text 4 spaces towards right"
      ]
    },
    {
      "cell_type": "code",
      "metadata": {
        "colab": {
          "base_uri": "https://localhost:8080/"
        },
        "id": "McCi8v8zDPMW",
        "outputId": "994bb0f3-1b64-4d54-87c9-9fed7e398b87"
      },
      "source": [
        "header_string = \"\"\"\n",
        "      age: continuous.\n",
        "      workclass: Private, Self-emp-not-inc, Self-emp-inc, Federal-gov, Local-gov, State-gov, Without-pay, Never-worked.\n",
        "      fnlwgt: continuous.\n",
        "      education: Bachelors, Some-college, 11th, HS-grad, Prof-school, Assoc-acdm, Assoc-voc, 9th, 7th-8th, 12th, Masters, 1st-4th, 10th, Doctorate, 5th-6th, Preschool.\n",
        "      education-num: continuous.\n",
        "      marital-status: Married-civ-spouse, Divorced, Never-married, Separated, Widowed, Married-spouse-absent, Married-AF-spouse.\n",
        "      occupation: Tech-support, Craft-repair, Other-service, Sales, Exec-managerial, Prof-specialty, Handlers-cleaners, Machine-op-inspct, Adm-clerical, Farming-fishing, Transport-moving, Priv-house-serv, Protective-serv, Armed-Forces.\n",
        "      relationship: Wife, Own-child, Husband, Not-in-family, Other-relative, Unmarried.\n",
        "      race: White, Asian-Pac-Islander, Amer-Indian-Eskimo, Other, Black.\n",
        "      sex: Female, Male.\n",
        "      capital-gain: continuous.\n",
        "      capital-loss: continuous.\n",
        "      hours-per-week: continuous.\n",
        "      native-country: United-States, Cambodia, England, Puerto-Rico, Canada, Germany, Outlying-US(Guam-USVI-etc), India, Japan, Greece, South, China, Cuba, Iran, Honduras, Philippines, Italy, Poland, Jamaica, Vietnam, Mexico, Portugal, Ireland, France, Dominican-Republic, Laos, Ecuador, Taiwan, Haiti, Columbia, Hungary, Guatemala, Nicaragua, Scotland, Thailand, Yugoslavia, El-Salvador, Trinadad&Tobago, Peru, Hong, Holand-Netherlands.\n",
        "\"\"\"\n",
        "\n",
        "type(header_string)"
      ],
      "execution_count": 13,
      "outputs": [
        {
          "output_type": "execute_result",
          "data": {
            "text/plain": [
              "str"
            ]
          },
          "metadata": {},
          "execution_count": 13
        }
      ]
    },
    {
      "cell_type": "code",
      "metadata": {
        "colab": {
          "base_uri": "https://localhost:8080/"
        },
        "id": "e85WykufEfFh",
        "outputId": "309414cc-df9d-4eae-caaa-acc66609d83f"
      },
      "source": [
        "len(header_string)"
      ],
      "execution_count": 14,
      "outputs": [
        {
          "output_type": "execute_result",
          "data": {
            "text/plain": [
              "1458"
            ]
          },
          "metadata": {},
          "execution_count": 14
        }
      ]
    },
    {
      "cell_type": "code",
      "metadata": {
        "colab": {
          "base_uri": "https://localhost:8080/"
        },
        "id": "5dpr7lA3E_6K",
        "outputId": "91e697bc-67fa-402f-f0bb-cc4d8b4f8169"
      },
      "source": [
        "print(header_string)"
      ],
      "execution_count": 15,
      "outputs": [
        {
          "output_type": "stream",
          "name": "stdout",
          "text": [
            "\n",
            "      age: continuous.\n",
            "      workclass: Private, Self-emp-not-inc, Self-emp-inc, Federal-gov, Local-gov, State-gov, Without-pay, Never-worked.\n",
            "      fnlwgt: continuous.\n",
            "      education: Bachelors, Some-college, 11th, HS-grad, Prof-school, Assoc-acdm, Assoc-voc, 9th, 7th-8th, 12th, Masters, 1st-4th, 10th, Doctorate, 5th-6th, Preschool.\n",
            "      education-num: continuous.\n",
            "      marital-status: Married-civ-spouse, Divorced, Never-married, Separated, Widowed, Married-spouse-absent, Married-AF-spouse.\n",
            "      occupation: Tech-support, Craft-repair, Other-service, Sales, Exec-managerial, Prof-specialty, Handlers-cleaners, Machine-op-inspct, Adm-clerical, Farming-fishing, Transport-moving, Priv-house-serv, Protective-serv, Armed-Forces.\n",
            "      relationship: Wife, Own-child, Husband, Not-in-family, Other-relative, Unmarried.\n",
            "      race: White, Asian-Pac-Islander, Amer-Indian-Eskimo, Other, Black.\n",
            "      sex: Female, Male.\n",
            "      capital-gain: continuous.\n",
            "      capital-loss: continuous.\n",
            "      hours-per-week: continuous.\n",
            "      native-country: United-States, Cambodia, England, Puerto-Rico, Canada, Germany, Outlying-US(Guam-USVI-etc), India, Japan, Greece, South, China, Cuba, Iran, Honduras, Philippines, Italy, Poland, Jamaica, Vietnam, Mexico, Portugal, Ireland, France, Dominican-Republic, Laos, Ecuador, Taiwan, Haiti, Columbia, Hungary, Guatemala, Nicaragua, Scotland, Thailand, Yugoslavia, El-Salvador, Trinadad&Tobago, Peru, Hong, Holand-Netherlands.\n",
            "\n"
          ]
        }
      ]
    },
    {
      "cell_type": "code",
      "metadata": {
        "colab": {
          "base_uri": "https://localhost:8080/"
        },
        "id": "pLFhDGgpFGxo",
        "outputId": "d7a351a1-3e90-4b1a-c95f-5743c917092f"
      },
      "source": [
        "header_list = header_string.split(\"\\n\")\n",
        "print(header_list)"
      ],
      "execution_count": 16,
      "outputs": [
        {
          "output_type": "stream",
          "name": "stdout",
          "text": [
            "['', '      age: continuous.', '      workclass: Private, Self-emp-not-inc, Self-emp-inc, Federal-gov, Local-gov, State-gov, Without-pay, Never-worked.', '      fnlwgt: continuous.', '      education: Bachelors, Some-college, 11th, HS-grad, Prof-school, Assoc-acdm, Assoc-voc, 9th, 7th-8th, 12th, Masters, 1st-4th, 10th, Doctorate, 5th-6th, Preschool.', '      education-num: continuous.', '      marital-status: Married-civ-spouse, Divorced, Never-married, Separated, Widowed, Married-spouse-absent, Married-AF-spouse.', '      occupation: Tech-support, Craft-repair, Other-service, Sales, Exec-managerial, Prof-specialty, Handlers-cleaners, Machine-op-inspct, Adm-clerical, Farming-fishing, Transport-moving, Priv-house-serv, Protective-serv, Armed-Forces.', '      relationship: Wife, Own-child, Husband, Not-in-family, Other-relative, Unmarried.', '      race: White, Asian-Pac-Islander, Amer-Indian-Eskimo, Other, Black.', '      sex: Female, Male.', '      capital-gain: continuous.', '      capital-loss: continuous.', '      hours-per-week: continuous.', '      native-country: United-States, Cambodia, England, Puerto-Rico, Canada, Germany, Outlying-US(Guam-USVI-etc), India, Japan, Greece, South, China, Cuba, Iran, Honduras, Philippines, Italy, Poland, Jamaica, Vietnam, Mexico, Portugal, Ireland, France, Dominican-Republic, Laos, Ecuador, Taiwan, Haiti, Columbia, Hungary, Guatemala, Nicaragua, Scotland, Thailand, Yugoslavia, El-Salvador, Trinadad&Tobago, Peru, Hong, Holand-Netherlands.', '']\n"
          ]
        }
      ]
    },
    {
      "cell_type": "code",
      "metadata": {
        "colab": {
          "base_uri": "https://localhost:8080/"
        },
        "id": "dybcupShFc9V",
        "outputId": "0126279f-bef1-497b-8ec8-93dfa1b9c362"
      },
      "source": [
        "len(header_list)"
      ],
      "execution_count": 17,
      "outputs": [
        {
          "output_type": "execute_result",
          "data": {
            "text/plain": [
              "16"
            ]
          },
          "metadata": {},
          "execution_count": 17
        }
      ]
    },
    {
      "cell_type": "code",
      "metadata": {
        "colab": {
          "base_uri": "https://localhost:8080/",
          "height": 35
        },
        "id": "oFKqwwxqFsXj",
        "outputId": "7690f423-8294-4db6-d5bc-c66573d79eb1"
      },
      "source": [
        "header_list[0]"
      ],
      "execution_count": 18,
      "outputs": [
        {
          "output_type": "execute_result",
          "data": {
            "application/vnd.google.colaboratory.intrinsic+json": {
              "type": "string"
            },
            "text/plain": [
              "''"
            ]
          },
          "metadata": {},
          "execution_count": 18
        }
      ]
    },
    {
      "cell_type": "code",
      "metadata": {
        "colab": {
          "base_uri": "https://localhost:8080/",
          "height": 35
        },
        "id": "SDwR0AYgF0Hz",
        "outputId": "af6181e2-aa46-4e06-a46a-951807dcb76f"
      },
      "source": [
        "header_list[2]"
      ],
      "execution_count": 19,
      "outputs": [
        {
          "output_type": "execute_result",
          "data": {
            "application/vnd.google.colaboratory.intrinsic+json": {
              "type": "string"
            },
            "text/plain": [
              "'      workclass: Private, Self-emp-not-inc, Self-emp-inc, Federal-gov, Local-gov, State-gov, Without-pay, Never-worked.'"
            ]
          },
          "metadata": {},
          "execution_count": 19
        }
      ]
    },
    {
      "cell_type": "code",
      "metadata": {
        "colab": {
          "base_uri": "https://localhost:8080/",
          "height": 35
        },
        "id": "EQZ9pn2TF82M",
        "outputId": "8559ff33-c28d-4ed0-aae2-0ef0a76fa141"
      },
      "source": [
        "header_list[15]"
      ],
      "execution_count": 20,
      "outputs": [
        {
          "output_type": "execute_result",
          "data": {
            "application/vnd.google.colaboratory.intrinsic+json": {
              "type": "string"
            },
            "text/plain": [
              "''"
            ]
          },
          "metadata": {},
          "execution_count": 20
        }
      ]
    },
    {
      "cell_type": "code",
      "metadata": {
        "colab": {
          "base_uri": "https://localhost:8080/"
        },
        "id": "ky7od4JxGG76",
        "outputId": "3cea1b12-a53c-4dd0-b48d-0141b3e64524"
      },
      "source": [
        "header_list2 = header_list[1:15]\n",
        "header_list2"
      ],
      "execution_count": 25,
      "outputs": [
        {
          "output_type": "execute_result",
          "data": {
            "text/plain": [
              "['      age: continuous.',\n",
              " '      workclass: Private, Self-emp-not-inc, Self-emp-inc, Federal-gov, Local-gov, State-gov, Without-pay, Never-worked.',\n",
              " '      fnlwgt: continuous.',\n",
              " '      education: Bachelors, Some-college, 11th, HS-grad, Prof-school, Assoc-acdm, Assoc-voc, 9th, 7th-8th, 12th, Masters, 1st-4th, 10th, Doctorate, 5th-6th, Preschool.',\n",
              " '      education-num: continuous.',\n",
              " '      marital-status: Married-civ-spouse, Divorced, Never-married, Separated, Widowed, Married-spouse-absent, Married-AF-spouse.',\n",
              " '      occupation: Tech-support, Craft-repair, Other-service, Sales, Exec-managerial, Prof-specialty, Handlers-cleaners, Machine-op-inspct, Adm-clerical, Farming-fishing, Transport-moving, Priv-house-serv, Protective-serv, Armed-Forces.',\n",
              " '      relationship: Wife, Own-child, Husband, Not-in-family, Other-relative, Unmarried.',\n",
              " '      race: White, Asian-Pac-Islander, Amer-Indian-Eskimo, Other, Black.',\n",
              " '      sex: Female, Male.',\n",
              " '      capital-gain: continuous.',\n",
              " '      capital-loss: continuous.',\n",
              " '      hours-per-week: continuous.',\n",
              " '      native-country: United-States, Cambodia, England, Puerto-Rico, Canada, Germany, Outlying-US(Guam-USVI-etc), India, Japan, Greece, South, China, Cuba, Iran, Honduras, Philippines, Italy, Poland, Jamaica, Vietnam, Mexico, Portugal, Ireland, France, Dominican-Republic, Laos, Ecuador, Taiwan, Haiti, Columbia, Hungary, Guatemala, Nicaragua, Scotland, Thailand, Yugoslavia, El-Salvador, Trinadad&Tobago, Peru, Hong, Holand-Netherlands.']"
            ]
          },
          "metadata": {},
          "execution_count": 25
        }
      ]
    },
    {
      "cell_type": "code",
      "metadata": {
        "colab": {
          "base_uri": "https://localhost:8080/"
        },
        "id": "lru_qDZ8K4X1",
        "outputId": "ffec3564-5cb4-4362-a083-728b35304fd9"
      },
      "source": [
        "header_list3 = []\n",
        "\n",
        "for item in header_list2: \n",
        "    header_info = item.split(\":\") \n",
        "    print(header_info[0])\n",
        "    header_list3.append(header_info[0])\n",
        "\n",
        "print(header_list3)"
      ],
      "execution_count": 27,
      "outputs": [
        {
          "output_type": "stream",
          "name": "stdout",
          "text": [
            "      age\n",
            "      workclass\n",
            "      fnlwgt\n",
            "      education\n",
            "      education-num\n",
            "      marital-status\n",
            "      occupation\n",
            "      relationship\n",
            "      race\n",
            "      sex\n",
            "      capital-gain\n",
            "      capital-loss\n",
            "      hours-per-week\n",
            "      native-country\n",
            "['      age', '      workclass', '      fnlwgt', '      education', '      education-num', '      marital-status', '      occupation', '      relationship', '      race', '      sex', '      capital-gain', '      capital-loss', '      hours-per-week', '      native-country']\n"
          ]
        }
      ]
    },
    {
      "cell_type": "markdown",
      "metadata": {
        "id": "utrbMa_RLjPC"
      },
      "source": [
        "## 4. Python Dictionary  "
      ]
    },
    {
      "cell_type": "code",
      "metadata": {
        "colab": {
          "base_uri": "https://localhost:8080/"
        },
        "id": "Mc09GUwhLrN7",
        "outputId": "97489ecb-0105-47ea-de39-56d4553066aa"
      },
      "source": [
        "x = {\"Age\":90}\n",
        "y = {\"Age\":90, \"last_name\":\"Likhith\", \"Gender\":\"Male\"}\n",
        "\n",
        "print (x, y)"
      ],
      "execution_count": 30,
      "outputs": [
        {
          "output_type": "stream",
          "name": "stdout",
          "text": [
            "{'Age': 90} {'Age': 90, 'last_name': 'Likhith', 'Gender': 'Male'}\n"
          ]
        }
      ]
    },
    {
      "cell_type": "code",
      "metadata": {
        "colab": {
          "base_uri": "https://localhost:8080/"
        },
        "id": "vpTysFAWMyw0",
        "outputId": "bbba7bb5-e752-4f60-c8f0-9bc05510d73f"
      },
      "source": [
        "print(y[\"Age\"])"
      ],
      "execution_count": 32,
      "outputs": [
        {
          "output_type": "stream",
          "name": "stdout",
          "text": [
            "90\n"
          ]
        }
      ]
    },
    {
      "cell_type": "code",
      "metadata": {
        "colab": {
          "base_uri": "https://localhost:8080/",
          "height": 35
        },
        "id": "DRenQ4OcNIhi",
        "outputId": "96a0bc1d-3ed3-4c15-8684-a477d829fb3b"
      },
      "source": [
        "y[\"Gender\"]"
      ],
      "execution_count": 33,
      "outputs": [
        {
          "output_type": "execute_result",
          "data": {
            "application/vnd.google.colaboratory.intrinsic+json": {
              "type": "string"
            },
            "text/plain": [
              "'Male'"
            ]
          },
          "metadata": {},
          "execution_count": 33
        }
      ]
    },
    {
      "cell_type": "code",
      "metadata": {
        "colab": {
          "base_uri": "https://localhost:8080/"
        },
        "id": "nJxp21UdNPQA",
        "outputId": "32676064-a655-43a5-aeb5-b044b15b23c1"
      },
      "source": [
        "header_list2"
      ],
      "execution_count": 34,
      "outputs": [
        {
          "output_type": "execute_result",
          "data": {
            "text/plain": [
              "['      age: continuous.',\n",
              " '      workclass: Private, Self-emp-not-inc, Self-emp-inc, Federal-gov, Local-gov, State-gov, Without-pay, Never-worked.',\n",
              " '      fnlwgt: continuous.',\n",
              " '      education: Bachelors, Some-college, 11th, HS-grad, Prof-school, Assoc-acdm, Assoc-voc, 9th, 7th-8th, 12th, Masters, 1st-4th, 10th, Doctorate, 5th-6th, Preschool.',\n",
              " '      education-num: continuous.',\n",
              " '      marital-status: Married-civ-spouse, Divorced, Never-married, Separated, Widowed, Married-spouse-absent, Married-AF-spouse.',\n",
              " '      occupation: Tech-support, Craft-repair, Other-service, Sales, Exec-managerial, Prof-specialty, Handlers-cleaners, Machine-op-inspct, Adm-clerical, Farming-fishing, Transport-moving, Priv-house-serv, Protective-serv, Armed-Forces.',\n",
              " '      relationship: Wife, Own-child, Husband, Not-in-family, Other-relative, Unmarried.',\n",
              " '      race: White, Asian-Pac-Islander, Amer-Indian-Eskimo, Other, Black.',\n",
              " '      sex: Female, Male.',\n",
              " '      capital-gain: continuous.',\n",
              " '      capital-loss: continuous.',\n",
              " '      hours-per-week: continuous.',\n",
              " '      native-country: United-States, Cambodia, England, Puerto-Rico, Canada, Germany, Outlying-US(Guam-USVI-etc), India, Japan, Greece, South, China, Cuba, Iran, Honduras, Philippines, Italy, Poland, Jamaica, Vietnam, Mexico, Portugal, Ireland, France, Dominican-Republic, Laos, Ecuador, Taiwan, Haiti, Columbia, Hungary, Guatemala, Nicaragua, Scotland, Thailand, Yugoslavia, El-Salvador, Trinadad&Tobago, Peru, Hong, Holand-Netherlands.']"
            ]
          },
          "metadata": {},
          "execution_count": 34
        }
      ]
    },
    {
      "cell_type": "code",
      "metadata": {
        "colab": {
          "base_uri": "https://localhost:8080/"
        },
        "id": "0lhZhc3aNXgw",
        "outputId": "18e81b97-3da2-44e8-d555-7591aafbec7a"
      },
      "source": [
        "a = {}\n",
        "type(a)"
      ],
      "execution_count": 35,
      "outputs": [
        {
          "output_type": "execute_result",
          "data": {
            "text/plain": [
              "dict"
            ]
          },
          "metadata": {},
          "execution_count": 35
        }
      ]
    },
    {
      "cell_type": "code",
      "metadata": {
        "colab": {
          "base_uri": "https://localhost:8080/"
        },
        "id": "CGJE6KJfN00B",
        "outputId": "ebecd93f-44e2-4fd5-ae39-33bf51f824c0"
      },
      "source": [
        "# tuple\n",
        "\n",
        "c = (\"Age\", 90)\n",
        "print(c)"
      ],
      "execution_count": 36,
      "outputs": [
        {
          "output_type": "stream",
          "name": "stdout",
          "text": [
            "('Age', 90)\n"
          ]
        }
      ]
    },
    {
      "cell_type": "code",
      "metadata": {
        "colab": {
          "base_uri": "https://localhost:8080/"
        },
        "id": "R25MUvKVOByj",
        "outputId": "88884dc1-1226-4c7c-abff-53f7eba7059f"
      },
      "source": [
        "a = dict([(\"Age\", 90)])\n",
        "print (a)"
      ],
      "execution_count": 37,
      "outputs": [
        {
          "output_type": "stream",
          "name": "stdout",
          "text": [
            "{'Age': 90}\n"
          ]
        }
      ]
    },
    {
      "cell_type": "code",
      "metadata": {
        "colab": {
          "base_uri": "https://localhost:8080/"
        },
        "id": "kkpXcIXdOSbP",
        "outputId": "20b5ad3a-709a-4067-ba8e-d32940fd47e4"
      },
      "source": [
        "a = dict([(\"Age\", 90), (\"last_name\", \"Likhith\"), (\"Gender\", \"Male\")])\n",
        "print(a)"
      ],
      "execution_count": 41,
      "outputs": [
        {
          "output_type": "stream",
          "name": "stdout",
          "text": [
            "{'Age': 90, 'last_name': 'Likhith', 'Gender': 'Male'}\n"
          ]
        }
      ]
    },
    {
      "cell_type": "code",
      "metadata": {
        "colab": {
          "base_uri": "https://localhost:8080/"
        },
        "id": "lI0LJQZzPQ9l",
        "outputId": "530af2c5-790b-4987-9e9b-83b2da56a347"
      },
      "source": [
        "tuple_list = []\n",
        "\n",
        "for item in header_list2:\n",
        "    header_info = item.split(\":\")\n",
        "    header_tuple = (header_info[0].strip(), header_info[1])\n",
        "    tuple_list.append(header_tuple)\n",
        "\n",
        "print(tuple_list)"
      ],
      "execution_count": 44,
      "outputs": [
        {
          "output_type": "stream",
          "name": "stdout",
          "text": [
            "[('age', ' continuous.'), ('workclass', ' Private, Self-emp-not-inc, Self-emp-inc, Federal-gov, Local-gov, State-gov, Without-pay, Never-worked.'), ('fnlwgt', ' continuous.'), ('education', ' Bachelors, Some-college, 11th, HS-grad, Prof-school, Assoc-acdm, Assoc-voc, 9th, 7th-8th, 12th, Masters, 1st-4th, 10th, Doctorate, 5th-6th, Preschool.'), ('education-num', ' continuous.'), ('marital-status', ' Married-civ-spouse, Divorced, Never-married, Separated, Widowed, Married-spouse-absent, Married-AF-spouse.'), ('occupation', ' Tech-support, Craft-repair, Other-service, Sales, Exec-managerial, Prof-specialty, Handlers-cleaners, Machine-op-inspct, Adm-clerical, Farming-fishing, Transport-moving, Priv-house-serv, Protective-serv, Armed-Forces.'), ('relationship', ' Wife, Own-child, Husband, Not-in-family, Other-relative, Unmarried.'), ('race', ' White, Asian-Pac-Islander, Amer-Indian-Eskimo, Other, Black.'), ('sex', ' Female, Male.'), ('capital-gain', ' continuous.'), ('capital-loss', ' continuous.'), ('hours-per-week', ' continuous.'), ('native-country', ' United-States, Cambodia, England, Puerto-Rico, Canada, Germany, Outlying-US(Guam-USVI-etc), India, Japan, Greece, South, China, Cuba, Iran, Honduras, Philippines, Italy, Poland, Jamaica, Vietnam, Mexico, Portugal, Ireland, France, Dominican-Republic, Laos, Ecuador, Taiwan, Haiti, Columbia, Hungary, Guatemala, Nicaragua, Scotland, Thailand, Yugoslavia, El-Salvador, Trinadad&Tobago, Peru, Hong, Holand-Netherlands.')]\n"
          ]
        }
      ]
    },
    {
      "cell_type": "code",
      "metadata": {
        "colab": {
          "base_uri": "https://localhost:8080/"
        },
        "id": "osXF-sH3QO7r",
        "outputId": "efec8263-69c1-42a5-85e5-f897afdf7055"
      },
      "source": [
        "header_dict = dict(tuple_list)\n",
        "print(header_dict)"
      ],
      "execution_count": 45,
      "outputs": [
        {
          "output_type": "stream",
          "name": "stdout",
          "text": [
            "{'age': ' continuous.', 'workclass': ' Private, Self-emp-not-inc, Self-emp-inc, Federal-gov, Local-gov, State-gov, Without-pay, Never-worked.', 'fnlwgt': ' continuous.', 'education': ' Bachelors, Some-college, 11th, HS-grad, Prof-school, Assoc-acdm, Assoc-voc, 9th, 7th-8th, 12th, Masters, 1st-4th, 10th, Doctorate, 5th-6th, Preschool.', 'education-num': ' continuous.', 'marital-status': ' Married-civ-spouse, Divorced, Never-married, Separated, Widowed, Married-spouse-absent, Married-AF-spouse.', 'occupation': ' Tech-support, Craft-repair, Other-service, Sales, Exec-managerial, Prof-specialty, Handlers-cleaners, Machine-op-inspct, Adm-clerical, Farming-fishing, Transport-moving, Priv-house-serv, Protective-serv, Armed-Forces.', 'relationship': ' Wife, Own-child, Husband, Not-in-family, Other-relative, Unmarried.', 'race': ' White, Asian-Pac-Islander, Amer-Indian-Eskimo, Other, Black.', 'sex': ' Female, Male.', 'capital-gain': ' continuous.', 'capital-loss': ' continuous.', 'hours-per-week': ' continuous.', 'native-country': ' United-States, Cambodia, England, Puerto-Rico, Canada, Germany, Outlying-US(Guam-USVI-etc), India, Japan, Greece, South, China, Cuba, Iran, Honduras, Philippines, Italy, Poland, Jamaica, Vietnam, Mexico, Portugal, Ireland, France, Dominican-Republic, Laos, Ecuador, Taiwan, Haiti, Columbia, Hungary, Guatemala, Nicaragua, Scotland, Thailand, Yugoslavia, El-Salvador, Trinadad&Tobago, Peru, Hong, Holand-Netherlands.'}\n"
          ]
        }
      ]
    }
  ]
}