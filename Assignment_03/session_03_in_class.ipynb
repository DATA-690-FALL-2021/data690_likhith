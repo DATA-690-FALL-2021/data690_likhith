{
  "nbformat": 4,
  "nbformat_minor": 0,
  "metadata": {
    "colab": {
      "name": "session_03_in_class.ipynb",
      "provenance": [],
      "authorship_tag": "ABX9TyOdBczRMdkka+JzQuoXjclq",
      "include_colab_link": true
    },
    "kernelspec": {
      "name": "python3",
      "display_name": "Python 3"
    },
    "language_info": {
      "name": "python"
    }
  },
  "cells": [
    {
      "cell_type": "markdown",
      "metadata": {
        "id": "view-in-github",
        "colab_type": "text"
      },
      "source": [
        "<a href=\"https://colab.research.google.com/github/Likhith1702/data690_likhith/blob/main/Assignment_03/session_03_in_class.ipynb\" target=\"_parent\"><img src=\"https://colab.research.google.com/assets/colab-badge.svg\" alt=\"Open In Colab\"/></a>"
      ]
    },
    {
      "cell_type": "markdown",
      "metadata": {
        "id": "d--3R2OB8bnH"
      },
      "source": [
        "# Session 3 in-class Practice\n",
        "- Likhith Reddy\n",
        "- September 16"
      ]
    },
    {
      "cell_type": "markdown",
      "metadata": {
        "id": "_qEHfEzy83NS"
      },
      "source": [
        "# 1. List Comprehension"
      ]
    },
    {
      "cell_type": "code",
      "metadata": {
        "colab": {
          "base_uri": "https://localhost:8080/"
        },
        "id": "AyjQW_aC8XXy",
        "outputId": "3e2d55c4-b604-4e73-8e9c-2c003d5c7e3a"
      },
      "source": [
        "# this is traditional way of using \"for\" loop\n",
        "\n",
        "x = [2, 5, -7, 10, 17]\n",
        "\n",
        "y = []\n",
        "\n",
        "for i in x:\n",
        "    new_number = i + 10\n",
        "    print(new_number)\n",
        "    y.append(new_number)\n",
        "\n",
        "print(y)\n"
      ],
      "execution_count": 3,
      "outputs": [
        {
          "output_type": "stream",
          "name": "stdout",
          "text": [
            "12\n",
            "15\n",
            "3\n",
            "20\n",
            "27\n",
            "[12, 15, 3, 20, 27]\n"
          ]
        }
      ]
    },
    {
      "cell_type": "code",
      "metadata": {
        "colab": {
          "base_uri": "https://localhost:8080/"
        },
        "id": "MEWikcQh-ohO",
        "outputId": "d1b1db03-dd9c-48e9-dde5-b57a0fcf868c"
      },
      "source": [
        "#  a new way using list comprehension\n",
        "\n",
        "y = [i + 10 for i in x]\n",
        "\n",
        "print(y)"
      ],
      "execution_count": 4,
      "outputs": [
        {
          "output_type": "stream",
          "name": "stdout",
          "text": [
            "[12, 15, 3, 20, 27]\n"
          ]
        }
      ]
    },
    {
      "cell_type": "markdown",
      "metadata": {
        "id": "b7m2F3L4-7QL"
      },
      "source": [
        "# 2. User Defined Function"
      ]
    },
    {
      "cell_type": "markdown",
      "metadata": {
        "id": "0_hjehoTARBc"
      },
      "source": [
        "- addition"
      ]
    },
    {
      "cell_type": "code",
      "metadata": {
        "id": "fFyyDO2t-60F"
      },
      "source": [
        "def addition(a, b):\n",
        "    return a + b\n"
      ],
      "execution_count": 7,
      "outputs": []
    },
    {
      "cell_type": "code",
      "metadata": {
        "colab": {
          "base_uri": "https://localhost:8080/"
        },
        "id": "jHA--Ldb_pyO",
        "outputId": "d04a07c9-fff1-4fb1-9adc-0226f5f023ee"
      },
      "source": [
        "y = addition(5,10)\n",
        "print(y)"
      ],
      "execution_count": 8,
      "outputs": [
        {
          "output_type": "stream",
          "name": "stdout",
          "text": [
            "15\n"
          ]
        }
      ]
    },
    {
      "cell_type": "markdown",
      "metadata": {
        "id": "wdcevv4NAVAM"
      },
      "source": [
        "- division"
      ]
    },
    {
      "cell_type": "code",
      "metadata": {
        "id": "1nd9EV7Z_1Wv"
      },
      "source": [
        "def division(a , b):\n",
        "    return a / b"
      ],
      "execution_count": 9,
      "outputs": []
    },
    {
      "cell_type": "code",
      "metadata": {
        "colab": {
          "base_uri": "https://localhost:8080/"
        },
        "id": "CC3rKwXiABVK",
        "outputId": "0c8726b3-2e12-489c-9abd-6d9e0450a1b0"
      },
      "source": [
        "w = division (10,5)\n",
        "print(w)"
      ],
      "execution_count": 11,
      "outputs": [
        {
          "output_type": "stream",
          "name": "stdout",
          "text": [
            "2.0\n"
          ]
        }
      ]
    }
  ]
}