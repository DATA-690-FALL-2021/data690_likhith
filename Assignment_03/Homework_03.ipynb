{
  "nbformat": 4,
  "nbformat_minor": 0,
  "metadata": {
    "colab": {
      "name": "Homework_03.ipynb",
      "provenance": [],
      "authorship_tag": "ABX9TyOvqd7oSPFYVeUSfNLaDzu3",
      "include_colab_link": true
    },
    "kernelspec": {
      "name": "python3",
      "display_name": "Python 3"
    },
    "language_info": {
      "name": "python"
    }
  },
  "cells": [
    {
      "cell_type": "markdown",
      "metadata": {
        "id": "view-in-github",
        "colab_type": "text"
      },
      "source": [
        "<a href=\"https://colab.research.google.com/github/Likhith1702/data690_likhith/blob/main/Assignment_03/Homework_03.ipynb\" target=\"_parent\"><img src=\"https://colab.research.google.com/assets/colab-badge.svg\" alt=\"Open In Colab\"/></a>"
      ]
    },
    {
      "cell_type": "markdown",
      "metadata": {
        "id": "ugOQEwzyklxS"
      },
      "source": [
        "## Assignment_03_Homework\n",
        "- Likhith Reddy"
      ]
    },
    {
      "cell_type": "markdown",
      "metadata": {
        "id": "SIzY96Qyv-DX"
      },
      "source": [
        "## Getting input from user for number of rows and coloumns"
      ]
    },
    {
      "cell_type": "code",
      "metadata": {
        "colab": {
          "base_uri": "https://localhost:8080/"
        },
        "id": "KvgmWHGygBpg",
        "outputId": "d4001b47-ad52-454f-c5a0-9a92d19157e8"
      },
      "source": [
        "import random\n",
        "\n",
        "row = int(input(\"Enter the rows:\"))\n",
        "col = int(input(\"Enter the coloumn:\"))\n"
      ],
      "execution_count": 17,
      "outputs": [
        {
          "name": "stdout",
          "output_type": "stream",
          "text": [
            "Enter the rows:10\n",
            "Enter the coloumn:10\n"
          ]
        }
      ]
    },
    {
      "cell_type": "markdown",
      "metadata": {
        "id": "gB-wKlzNwR-j"
      },
      "source": [
        "## Generating a 10X10 matrix with random integers in both columns and rows.\n",
        "- for loop and random \n",
        "- randint (returns an integer number selected element from the specified range)\n",
        "- using 0 to 9 as our range for the matrix"
      ]
    },
    {
      "cell_type": "code",
      "metadata": {
        "colab": {
          "base_uri": "https://localhost:8080/"
        },
        "id": "3CO5CEY8hXN_",
        "outputId": "6b93d7d1-b2f3-4293-9509-58671d7e53eb"
      },
      "source": [
        "matrix=[]\n",
        "\n",
        "for i in range(row):\n",
        "    a=[]\n",
        "\n",
        "    for j in range(col):\n",
        "      matrix.append(a)\n",
        "\n",
        "      print(random.randint(0,9), end=' ')\n",
        "\n",
        "    print('\\n')"
      ],
      "execution_count": 18,
      "outputs": [
        {
          "output_type": "stream",
          "name": "stdout",
          "text": [
            "4 6 1 0 6 3 5 4 1 6 \n",
            "\n",
            "5 1 3 3 0 6 4 1 5 0 \n",
            "\n",
            "8 7 4 4 1 3 7 6 4 4 \n",
            "\n",
            "4 7 7 4 0 7 5 6 6 5 \n",
            "\n",
            "6 0 1 3 5 1 7 6 9 2 \n",
            "\n",
            "3 6 2 2 2 3 8 7 6 3 \n",
            "\n",
            "3 2 4 4 2 2 3 8 3 1 \n",
            "\n",
            "6 9 1 0 5 3 3 3 3 2 \n",
            "\n",
            "0 4 3 5 8 9 0 8 5 5 \n",
            "\n",
            "6 7 8 2 1 5 7 9 4 1 \n",
            "\n"
          ]
        }
      ]
    },
    {
      "cell_type": "markdown",
      "metadata": {
        "id": "Uz51mW7mx1zy"
      },
      "source": [
        "## Seperating the random matrix with odd and even digits and making the odd digit as \"@\" in the matrix"
      ]
    },
    {
      "cell_type": "code",
      "metadata": {
        "colab": {
          "base_uri": "https://localhost:8080/"
        },
        "id": "NvmNKqdQlWrN",
        "outputId": "5fea5b61-91c7-49b8-da0e-696562046d1a"
      },
      "source": [
        "matrix=[]\n",
        "\n",
        "for i in range(row):\n",
        "    a=[]\n",
        "    for j in range(col):\n",
        "      matrix.append(a)\n",
        "      number = random.randint(0,9)\n",
        "\n",
        "      if number % 2 == 0:\n",
        "        print(number, end=' ')\n",
        "     \n",
        "      else:\n",
        "        print('@', end=' ')\n",
        "        \n",
        "    print('\\n')"
      ],
      "execution_count": 26,
      "outputs": [
        {
          "output_type": "stream",
          "name": "stdout",
          "text": [
            "@ @ 2 @ 2 @ @ @ @ @ \n",
            "\n",
            "6 2 6 @ 0 2 0 6 @ @ \n",
            "\n",
            "@ @ 0 0 @ @ @ @ @ 0 \n",
            "\n",
            "@ 4 @ 2 @ 4 6 @ @ @ \n",
            "\n",
            "@ 6 8 4 @ 4 6 0 0 4 \n",
            "\n",
            "@ @ 2 @ @ 8 4 @ 0 6 \n",
            "\n",
            "2 8 @ @ 4 @ 4 0 @ 2 \n",
            "\n",
            "4 @ 6 2 2 @ @ 0 2 @ \n",
            "\n",
            "@ @ @ @ 0 4 6 4 6 @ \n",
            "\n",
            "2 @ 4 0 0 2 6 6 8 @ \n",
            "\n"
          ]
        }
      ]
    },
    {
      "cell_type": "markdown",
      "metadata": {
        "id": "UMrna1Koyzti"
      },
      "source": [
        "## Adding the numbers together and showing the same at the end after an \" * \" is placed.\n",
        "- using total "
      ]
    },
    {
      "cell_type": "code",
      "metadata": {
        "colab": {
          "base_uri": "https://localhost:8080/"
        },
        "id": "GYmqapaasyRG",
        "outputId": "721c7952-99f8-4d5b-c587-1ea5255f4d05"
      },
      "source": [
        "for i in range(r):\n",
        "  total = 0\n",
        "\n",
        "  for j in range(c):\n",
        "    number = random.randint(0,9)\n",
        "\n",
        "    total = total + number\n",
        "    print(number, end=' ')\n",
        "    \n",
        "  print(' * ', str(total))"
      ],
      "execution_count": 27,
      "outputs": [
        {
          "output_type": "stream",
          "name": "stdout",
          "text": [
            "1 1 0 5 0 2 8 7 3 7  *  34\n",
            "8 1 1 6 4 6 8 9 7 9  *  59\n",
            "5 6 4 7 1 0 0 3 3 7  *  36\n",
            "9 1 2 9 3 2 4 6 3 5  *  44\n",
            "5 6 3 8 5 9 8 0 2 5  *  51\n",
            "1 9 0 2 0 6 4 2 9 3  *  36\n",
            "6 0 2 3 7 3 7 3 9 5  *  45\n",
            "9 9 5 7 3 5 7 7 8 5  *  65\n",
            "0 2 5 3 8 0 6 9 2 1  *  36\n",
            "8 1 1 7 7 3 1 4 4 5  *  41\n"
          ]
        }
      ]
    },
    {
      "cell_type": "markdown",
      "metadata": {
        "id": "EkRgDqRlzOe-"
      },
      "source": [
        "## Getting \"*\" all around the generated matrix\n",
        "- print a line of \" * \" at the start and end of the matrix"
      ]
    },
    {
      "cell_type": "code",
      "metadata": {
        "colab": {
          "base_uri": "https://localhost:8080/"
        },
        "id": "K5TyfXJuvhtR",
        "outputId": "57e1de03-5be5-433d-9237-b5d89334a9e4"
      },
      "source": [
        "print(\" \",\"* * * * * * * * * * *\")\n",
        "for i in range(r):\n",
        "  print(\"*\",end=\" \")\n",
        "\n",
        "  for j in range(c):\n",
        "    matrix = random.randint(0,9)\n",
        "    print(matrix, end = \" \")\n",
        "\n",
        "  print(\"*\", end=\" \")  \n",
        "  print(\"\\n\", end =\" \")\n",
        "print(\" \",\"* * * * * * * * * * \")"
      ],
      "execution_count": 15,
      "outputs": [
        {
          "output_type": "stream",
          "name": "stdout",
          "text": [
            "  * * * * * * * * * * *\n",
            "* 6 1 8 2 5 0 3 6 8 7 * \n",
            " * 8 0 6 6 2 1 4 2 3 2 * \n",
            " * 2 3 6 3 9 3 9 5 6 1 * \n",
            " * 7 0 4 5 4 4 6 3 4 2 * \n",
            " * 8 2 8 0 6 1 4 1 7 6 * \n",
            " * 5 3 4 3 4 1 6 3 0 5 * \n",
            " * 5 7 3 1 7 5 3 6 8 3 * \n",
            " * 7 2 8 9 8 2 7 8 1 8 * \n",
            " * 7 4 9 8 6 1 5 9 7 0 * \n",
            " * 8 4 9 4 0 3 2 2 2 5 * \n",
            "   * * * * * * * * * * \n"
          ]
        }
      ]
    },
    {
      "cell_type": "markdown",
      "metadata": {
        "id": "IaCsHyxnzoYa"
      },
      "source": [
        "## Reference\n",
        "- https://www.pythonforbeginners.com/random/how-to-use-the-random-module-in-python\n",
        "- https://www.programiz.com/python-programming/matrix\n",
        "- https://www.w3schools.com/python/ref_random_randint.asp"
      ]
    }
  ]
}