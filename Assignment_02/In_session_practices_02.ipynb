{
  "nbformat": 4,
  "nbformat_minor": 0,
  "metadata": {
    "colab": {
      "name": "In_session_practices_02.ipynb",
      "provenance": [],
      "authorship_tag": "ABX9TyO9H3VdPl4xT7Zp7+Gp338T",
      "include_colab_link": true
    },
    "kernelspec": {
      "name": "python3",
      "display_name": "Python 3"
    },
    "language_info": {
      "name": "python"
    }
  },
  "cells": [
    {
      "cell_type": "markdown",
      "metadata": {
        "id": "view-in-github",
        "colab_type": "text"
      },
      "source": [
        "<a href=\"https://colab.research.google.com/github/Likhith1702/data690_likhith/blob/main/Assignment_02/In_session_practices_02.ipynb\" target=\"_parent\"><img src=\"https://colab.research.google.com/assets/colab-badge.svg\" alt=\"Open In Colab\"/></a>"
      ]
    },
    {
      "cell_type": "code",
      "metadata": {
        "id": "maCQI6xB-bzM"
      },
      "source": [
        ""
      ],
      "execution_count": null,
      "outputs": []
    },
    {
      "cell_type": "markdown",
      "metadata": {
        "id": "A4rtn-C--uHt"
      },
      "source": [
        "# In-session Hands-on Practices\n",
        "Likhith Reddy"
      ]
    },
    {
      "cell_type": "markdown",
      "metadata": {
        "id": "wOMgKBqH_SnA"
      },
      "source": [
        "# 1. Simple Types\n",
        "- Int\n",
        "- foat\n",
        "- str\n",
        "- boolean (True/False, First letter UPPER CASE)\n",
        "- NaN (Not a Number, Null Value)"
      ]
    },
    {
      "cell_type": "code",
      "metadata": {
        "colab": {
          "base_uri": "https://localhost:8080/"
        },
        "id": "ypj11_p5-g1t",
        "outputId": "a444afb6-00e6-48c4-df3e-1f0aab8abbbf"
      },
      "source": [
        "x = 5  # intiger\n",
        "y = 0.5 # float\n",
        "s = \"Hello\"  # string, a collection of characters\n",
        "print(x,y,s)"
      ],
      "execution_count": 2,
      "outputs": [
        {
          "output_type": "stream",
          "name": "stdout",
          "text": [
            "5 0.5 Hello\n"
          ]
        }
      ]
    },
    {
      "cell_type": "code",
      "metadata": {
        "colab": {
          "base_uri": "https://localhost:8080/"
        },
        "id": "9VcTooRwAAcO",
        "outputId": "ea05a9a3-c018-4994-9c1f-715cb40b2bee"
      },
      "source": [
        "type(x)"
      ],
      "execution_count": 6,
      "outputs": [
        {
          "output_type": "execute_result",
          "data": {
            "text/plain": [
              "int"
            ]
          },
          "metadata": {},
          "execution_count": 6
        }
      ]
    },
    {
      "cell_type": "code",
      "metadata": {
        "colab": {
          "base_uri": "https://localhost:8080/"
        },
        "id": "1YlNjHsAAFA5",
        "outputId": "a023d514-6837-4009-e37c-735eff708f4b"
      },
      "source": [
        "type(s)"
      ],
      "execution_count": 7,
      "outputs": [
        {
          "output_type": "execute_result",
          "data": {
            "text/plain": [
              "str"
            ]
          },
          "metadata": {},
          "execution_count": 7
        }
      ]
    },
    {
      "cell_type": "markdown",
      "metadata": {
        "id": "Rh14ERvk_ecf"
      },
      "source": [
        "# 2. Collection Type"
      ]
    },
    {
      "cell_type": "code",
      "metadata": {
        "colab": {
          "base_uri": "https://localhost:8080/"
        },
        "id": "ldcWJx8B_dsE",
        "outputId": "b9875a14-2c97-4fb8-86fd-922278be1f3b"
      },
      "source": [
        "a_list = [1,4,7,10]\n",
        "print(a_list)"
      ],
      "execution_count": 4,
      "outputs": [
        {
          "output_type": "stream",
          "name": "stdout",
          "text": [
            "[1, 4, 7, 10]\n"
          ]
        }
      ]
    },
    {
      "cell_type": "code",
      "metadata": {
        "colab": {
          "base_uri": "https://localhost:8080/"
        },
        "id": "wT2v1Sql_1b-",
        "outputId": "0f46af93-2391-4877-a2c3-57629e951836"
      },
      "source": [
        "type(a_list)"
      ],
      "execution_count": 5,
      "outputs": [
        {
          "output_type": "execute_result",
          "data": {
            "text/plain": [
              "list"
            ]
          },
          "metadata": {},
          "execution_count": 5
        }
      ]
    },
    {
      "cell_type": "markdown",
      "metadata": {
        "id": "SvUHtbrqANcA"
      },
      "source": [
        "## 3. Loop"
      ]
    },
    {
      "cell_type": "code",
      "metadata": {
        "colab": {
          "base_uri": "https://localhost:8080/"
        },
        "id": "5t01AswXAVjD",
        "outputId": "7b3c3da5-9c08-47a6-aed4-105cbf0eb197"
      },
      "source": [
        "for i in a_list:\n",
        "  print(\"integer\", i)"
      ],
      "execution_count": 10,
      "outputs": [
        {
          "output_type": "stream",
          "name": "stdout",
          "text": [
            "integer 1\n",
            "integer 4\n",
            "integer 7\n",
            "integer 10\n"
          ]
        }
      ]
    },
    {
      "cell_type": "markdown",
      "metadata": {
        "id": "XlOGsV32Brzb"
      },
      "source": [
        "# 4. Conditions"
      ]
    },
    {
      "cell_type": "code",
      "metadata": {
        "colab": {
          "base_uri": "https://localhost:8080/"
        },
        "id": "kGP-52f1BwmR",
        "outputId": "f63d1af9-87f3-49a4-ce16-0c75d4a734cc"
      },
      "source": [
        "print (10 % 2) # modular"
      ],
      "execution_count": 11,
      "outputs": [
        {
          "output_type": "stream",
          "name": "stdout",
          "text": [
            "0\n"
          ]
        }
      ]
    },
    {
      "cell_type": "code",
      "metadata": {
        "colab": {
          "base_uri": "https://localhost:8080/"
        },
        "id": "a0ZNLd_8B_KF",
        "outputId": "8d65bafc-87a9-4d99-995f-8e7f0bda4526"
      },
      "source": [
        "print (23 % 2) # modula"
      ],
      "execution_count": 12,
      "outputs": [
        {
          "output_type": "stream",
          "name": "stdout",
          "text": [
            "1\n"
          ]
        }
      ]
    },
    {
      "cell_type": "code",
      "metadata": {
        "colab": {
          "base_uri": "https://localhost:8080/"
        },
        "id": "A3_hFd90CLkD",
        "outputId": "7ec32428-5b0a-4716-fc6a-02a517f60ed7"
      },
      "source": [
        "for i in a_list:\n",
        "  if i % 2 == 1:\n",
        "    print (\"Odd Number\", i)"
      ],
      "execution_count": 20,
      "outputs": [
        {
          "output_type": "stream",
          "name": "stdout",
          "text": [
            "Odd Number 1\n",
            "Odd Number 7\n"
          ]
        }
      ]
    },
    {
      "cell_type": "markdown",
      "metadata": {
        "id": "6QmY1K7zMzAg"
      },
      "source": [
        "## 5. Python build-in functions\n",
        "- Range ()\n",
        "- List ()\n",
        "- int ()\n",
        "- str ()\n",
        "- len() the num of items in a collection"
      ]
    },
    {
      "cell_type": "code",
      "metadata": {
        "colab": {
          "base_uri": "https://localhost:8080/"
        },
        "id": "dZc7znHcLO-e",
        "outputId": "4f8e8668-0ed5-42ee-e0ca-5f16be605463"
      },
      "source": [
        "for i in range(10, 21, 2): #start = 10, stop = 21 (up to 20, not including 21), step =2\n",
        "    print(i)"
      ],
      "execution_count": 21,
      "outputs": [
        {
          "output_type": "stream",
          "name": "stdout",
          "text": [
            "10\n",
            "12\n",
            "14\n",
            "16\n",
            "18\n",
            "20\n"
          ]
        }
      ]
    },
    {
      "cell_type": "code",
      "metadata": {
        "colab": {
          "base_uri": "https://localhost:8080/"
        },
        "id": "GtPnFlcMLqVJ",
        "outputId": "7338862f-d945-45f1-9991-6cef55222ad0"
      },
      "source": [
        "for j in range(0,5):\n",
        "  print(j)"
      ],
      "execution_count": 22,
      "outputs": [
        {
          "output_type": "stream",
          "name": "stdout",
          "text": [
            "0\n",
            "1\n",
            "2\n",
            "3\n",
            "4\n"
          ]
        }
      ]
    },
    {
      "cell_type": "code",
      "metadata": {
        "colab": {
          "base_uri": "https://localhost:8080/"
        },
        "id": "t6Pkge_DMWHU",
        "outputId": "181ca6f1-d6c8-4a78-c076-c9af647efa99"
      },
      "source": [
        "print (list(range(0,5)))"
      ],
      "execution_count": 23,
      "outputs": [
        {
          "output_type": "stream",
          "name": "stdout",
          "text": [
            "[0, 1, 2, 3, 4]\n"
          ]
        }
      ]
    },
    {
      "cell_type": "code",
      "metadata": {
        "colab": {
          "base_uri": "https://localhost:8080/"
        },
        "id": "-0xNvBefM5rD",
        "outputId": "6b6604ac-b616-4524-ba34-c4b4978b4875"
      },
      "source": [
        "x = \"50\"\n",
        "type(x)"
      ],
      "execution_count": 24,
      "outputs": [
        {
          "output_type": "execute_result",
          "data": {
            "text/plain": [
              "str"
            ]
          },
          "metadata": {},
          "execution_count": 24
        }
      ]
    },
    {
      "cell_type": "code",
      "metadata": {
        "colab": {
          "base_uri": "https://localhost:8080/"
        },
        "id": "sZs5nPqKNA-Z",
        "outputId": "9d745553-61f5-4da5-db6b-e9a75eb0d8b4"
      },
      "source": [
        "y = int(x)\n",
        "type(y)"
      ],
      "execution_count": 25,
      "outputs": [
        {
          "output_type": "execute_result",
          "data": {
            "text/plain": [
              "int"
            ]
          },
          "metadata": {},
          "execution_count": 25
        }
      ]
    },
    {
      "cell_type": "code",
      "metadata": {
        "colab": {
          "base_uri": "https://localhost:8080/"
        },
        "id": "W96GX9SpNG26",
        "outputId": "25580e3d-a12a-48dc-e762-c8d84a720bdc"
      },
      "source": [
        "print(x,y)"
      ],
      "execution_count": 26,
      "outputs": [
        {
          "output_type": "stream",
          "name": "stdout",
          "text": [
            "50 50\n"
          ]
        }
      ]
    },
    {
      "cell_type": "markdown",
      "metadata": {
        "id": "-OSNwvTfNf2z"
      },
      "source": [
        "## 6. Accept User Inputs"
      ]
    },
    {
      "cell_type": "code",
      "metadata": {
        "colab": {
          "base_uri": "https://localhost:8080/"
        },
        "id": "BiYoa1lJNwaB",
        "outputId": "05726e0e-eba5-49d6-9856-fd5e10fa3c50"
      },
      "source": [
        "x = input(\"enter an intiger:\")"
      ],
      "execution_count": 27,
      "outputs": [
        {
          "name": "stdout",
          "output_type": "stream",
          "text": [
            "enter an intiger:10\n"
          ]
        }
      ]
    },
    {
      "cell_type": "code",
      "metadata": {
        "colab": {
          "base_uri": "https://localhost:8080/"
        },
        "id": "GEWaqu4NN9xi",
        "outputId": "c65fe64a-490c-43f0-ae49-4cb649e4b360"
      },
      "source": [
        "print(x)"
      ],
      "execution_count": 28,
      "outputs": [
        {
          "output_type": "stream",
          "name": "stdout",
          "text": [
            "10\n"
          ]
        }
      ]
    },
    {
      "cell_type": "code",
      "metadata": {
        "colab": {
          "base_uri": "https://localhost:8080/"
        },
        "id": "AD3tlqOCOD5h",
        "outputId": "f0805f4b-10ff-4c16-96bb-939945e2ce6a"
      },
      "source": [
        "type(x)"
      ],
      "execution_count": 29,
      "outputs": [
        {
          "output_type": "execute_result",
          "data": {
            "text/plain": [
              "str"
            ]
          },
          "metadata": {},
          "execution_count": 29
        }
      ]
    },
    {
      "cell_type": "code",
      "metadata": {
        "colab": {
          "base_uri": "https://localhost:8080/"
        },
        "id": "x0kQI_8hOIFs",
        "outputId": "80618c82-96ef-43ec-e7d6-105747e0c437"
      },
      "source": [
        "x = input(\"enter an integer:\")"
      ],
      "execution_count": 30,
      "outputs": [
        {
          "name": "stdout",
          "output_type": "stream",
          "text": [
            "enter an integer:Wang\n"
          ]
        }
      ]
    },
    {
      "cell_type": "code",
      "metadata": {
        "colab": {
          "base_uri": "https://localhost:8080/"
        },
        "id": "VIymAVLGOSmK",
        "outputId": "987da54e-5aa1-4f86-9988-e00d8382689d"
      },
      "source": [
        "print(x)"
      ],
      "execution_count": 31,
      "outputs": [
        {
          "output_type": "stream",
          "name": "stdout",
          "text": [
            "Wang\n"
          ]
        }
      ]
    },
    {
      "cell_type": "markdown",
      "metadata": {
        "id": "DoXsifBwOZ3y"
      },
      "source": [
        "## 7. Exception Handling"
      ]
    },
    {
      "cell_type": "code",
      "metadata": {
        "colab": {
          "base_uri": "https://localhost:8080/"
        },
        "id": "AG0UJon8Oeuc",
        "outputId": "c998ef0e-fe5b-4021-fb51-ce8a6ed39063"
      },
      "source": [
        "y = int(x)\n",
        "print(y)"
      ],
      "execution_count": 40,
      "outputs": [
        {
          "output_type": "stream",
          "name": "stdout",
          "text": [
            "10\n"
          ]
        }
      ]
    },
    {
      "cell_type": "code",
      "metadata": {
        "colab": {
          "base_uri": "https://localhost:8080/"
        },
        "id": "fKOcEo1GOwMf",
        "outputId": "6369ef1f-725e-413c-e498-ff5df7665534"
      },
      "source": [
        "y = int (\"50\")\n",
        "print(y)"
      ],
      "execution_count": 39,
      "outputs": [
        {
          "output_type": "stream",
          "name": "stdout",
          "text": [
            "50\n"
          ]
        }
      ]
    },
    {
      "cell_type": "code",
      "metadata": {
        "colab": {
          "base_uri": "https://localhost:8080/"
        },
        "id": "6AhxqavNO4rz",
        "outputId": "30e8f518-e83d-471b-dc2b-647d21cfd008"
      },
      "source": [
        "x = input(\"please enter an integer:\")\n",
        "try:\n",
        "  y = int(x)\n",
        "  print(\"got integer:\", y)\n",
        "except:\n",
        "    print(\"unable to convert the user input to an integer\")"
      ],
      "execution_count": 36,
      "outputs": [
        {
          "output_type": "stream",
          "name": "stdout",
          "text": [
            "please enter an integer:Wang\n",
            "unable to convert the user input to an integer\n"
          ]
        }
      ]
    },
    {
      "cell_type": "markdown",
      "metadata": {
        "id": "lOvTPA9zPs9-"
      },
      "source": [
        "## 8. Infinite Loop"
      ]
    },
    {
      "cell_type": "code",
      "metadata": {
        "colab": {
          "base_uri": "https://localhost:8080/"
        },
        "id": "lSBLSB3lPrJs",
        "outputId": "c897373b-fde5-41bf-facb-021ce2fa9094"
      },
      "source": [
        "while True:\n",
        "  x = input(\"please enter an integer:\")\n",
        "  try:\n",
        "      y = int(x)\n",
        "      print(\"got integer:\", y)\n",
        "      break\n",
        "  except:\n",
        "      print(\"You must enter an integer. Please try again\")"
      ],
      "execution_count": 38,
      "outputs": [
        {
          "output_type": "stream",
          "name": "stdout",
          "text": [
            "please enter an integer:wang\n",
            "You must enter an integer. Please try again\n",
            "please enter an integer:10\n",
            "got integer: 10\n"
          ]
        }
      ]
    },
    {
      "cell_type": "code",
      "metadata": {
        "colab": {
          "base_uri": "https://localhost:8080/"
        },
        "id": "fN4TkSyXVHS1",
        "outputId": "f3223c04-9fb2-4543-deaa-87eb2a286d31"
      },
      "source": [
        "the_list = []\n",
        "\n",
        "for i in range(0,3):\n",
        "    while True:\n",
        "       x = input(\"please enter an integer:\")\n",
        "       try:\n",
        "          y = int(x)\n",
        "          the_list.append(y)\n",
        "          print(\"got integer:\", y)\n",
        "          break\n",
        "        \n",
        "       except:\n",
        "          print(\"You must enter an integer. Please try again\")\n",
        "\n",
        "print(\"You have entered:\", the_list)"
      ],
      "execution_count": 57,
      "outputs": [
        {
          "output_type": "stream",
          "name": "stdout",
          "text": [
            "please enter an integer:10\n",
            "got integer: 10\n",
            "please enter an integer:15\n",
            "got integer: 15\n",
            "please enter an integer:25\n",
            "got integer: 25\n",
            "You have entered: [10, 15, 25]\n"
          ]
        }
      ]
    },
    {
      "cell_type": "code",
      "metadata": {
        "colab": {
          "base_uri": "https://localhost:8080/"
        },
        "id": "UncQ1YFpYq4T",
        "outputId": "742c7c4d-d09f-432e-b501-1ba863418dd5"
      },
      "source": [
        "total = 0\n",
        "\n",
        "for i in the_list:\n",
        "    total += i   # total = total + i\n",
        "\n",
        "print(\"total =\", total)"
      ],
      "execution_count": 58,
      "outputs": [
        {
          "output_type": "stream",
          "name": "stdout",
          "text": [
            "total = 50\n"
          ]
        }
      ]
    },
    {
      "cell_type": "code",
      "metadata": {
        "colab": {
          "base_uri": "https://localhost:8080/"
        },
        "id": "4oJTfeh8ZEkZ",
        "outputId": "68c5ce49-5594-44bc-8d82-e0e7a233a18f"
      },
      "source": [
        "mean = total / len(the_list)\n",
        "print(mean)"
      ],
      "execution_count": 59,
      "outputs": [
        {
          "output_type": "stream",
          "name": "stdout",
          "text": [
            "16.666666666666668\n"
          ]
        }
      ]
    }
  ]
}