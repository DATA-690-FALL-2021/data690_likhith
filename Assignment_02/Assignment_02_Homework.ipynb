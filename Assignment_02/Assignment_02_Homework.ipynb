{
  "nbformat": 4,
  "nbformat_minor": 0,
  "metadata": {
    "colab": {
      "name": "Assignment_02_Homework.ipynb",
      "provenance": [],
      "authorship_tag": "ABX9TyMe6NZlrbONFbhm0zsAhtcW",
      "include_colab_link": true
    },
    "kernelspec": {
      "name": "python3",
      "display_name": "Python 3"
    },
    "language_info": {
      "name": "python"
    }
  },
  "cells": [
    {
      "cell_type": "markdown",
      "metadata": {
        "id": "view-in-github",
        "colab_type": "text"
      },
      "source": [
        "<a href=\"https://colab.research.google.com/github/Likhith1702/data690_likhith/blob/main/Assignment_02/Assignment_02_Homework.ipynb\" target=\"_parent\"><img src=\"https://colab.research.google.com/assets/colab-badge.svg\" alt=\"Open In Colab\"/></a>"
      ]
    },
    {
      "cell_type": "markdown",
      "metadata": {
        "id": "wXfIyl2nGV0X"
      },
      "source": [
        "## Asking user to enter 10  integers \n",
        "- using \"for\" and \"while\" loop \n",
        "- using conditions \"try\" and \"except\""
      ]
    },
    {
      "cell_type": "code",
      "metadata": {
        "colab": {
          "base_uri": "https://localhost:8080/"
        },
        "id": "jlOo18OxBw7T",
        "outputId": "ad3ad856-c67c-4dad-d1ae-ba91ff1b90dd"
      },
      "source": [
        "the_list = []   \n",
        "for i in range (0,10):\n",
        "\n",
        "  while True:\n",
        "    x = input(\"please enter integer:\")\n",
        "    try:\n",
        "      y = int(x)\n",
        "      the_list.append(y)\n",
        "      print(\"got integer\", y)\n",
        "      break\n",
        "\n",
        "    except:\n",
        "      print(\"you must enter an integer. Please try again\")\n",
        "843211\n",
        "print(\"you have entered\", the_list)"
      ],
      "execution_count": 11,
      "outputs": [
        {
          "output_type": "stream",
          "name": "stdout",
          "text": [
            "please enter integer:10\n",
            "got integer 10\n",
            "please enter integer:11\n",
            "got integer 11\n",
            "please enter integer:2\n",
            "got integer 2\n",
            "please enter integer:13\n",
            "got integer 13\n",
            "please enter integer:14\n",
            "got integer 14\n",
            "please enter integer:15\n",
            "got integer 15\n",
            "please enter integer:16\n",
            "got integer 16\n",
            "please enter integer:17\n",
            "got integer 17\n",
            "please enter integer:18\n",
            "got integer 18\n",
            "please enter integer:19\n",
            "got integer 19\n",
            "you have entered [10, 11, 2, 13, 14, 15, 16, 17, 18, 19]\n"
          ]
        }
      ]
    },
    {
      "cell_type": "code",
      "metadata": {
        "id": "JutK-CzxAcxw"
      },
      "source": [
        ""
      ],
      "execution_count": null,
      "outputs": []
    },
    {
      "cell_type": "markdown",
      "metadata": {
        "id": "ZB-2M8poHi5V"
      },
      "source": [
        "## Adding the list"
      ]
    },
    {
      "cell_type": "code",
      "metadata": {
        "colab": {
          "base_uri": "https://localhost:8080/"
        },
        "id": "_5LpadEhHomw",
        "outputId": "376b2685-236a-458d-91e2-f40353afb314"
      },
      "source": [
        "total = 0\n",
        "\n",
        "for i in the_list:\n",
        "  total += i # total = total + i\n",
        "print (\"total =\", total)"
      ],
      "execution_count": 12,
      "outputs": [
        {
          "output_type": "stream",
          "name": "stdout",
          "text": [
            "total = 135\n"
          ]
        }
      ]
    },
    {
      "cell_type": "markdown",
      "metadata": {
        "id": "i1lGK1_4MvvH"
      },
      "source": [
        "## Calculating mean"
      ]
    },
    {
      "cell_type": "code",
      "metadata": {
        "colab": {
          "base_uri": "https://localhost:8080/"
        },
        "id": "5yCL5ibfMuSD",
        "outputId": "3b36828e-c0a3-4380-d7ad-d4a8da66c2cf"
      },
      "source": [
        "mean = total/len(the_list)\n",
        "print(\"mean=\", mean)"
      ],
      "execution_count": 13,
      "outputs": [
        {
          "output_type": "stream",
          "name": "stdout",
          "text": [
            "mean= 13.5\n"
          ]
        }
      ]
    },
    {
      "cell_type": "markdown",
      "metadata": {
        "id": "VRv1uUO971xJ"
      },
      "source": [
        "## Getting the \"minimum number\" from the list"
      ]
    },
    {
      "cell_type": "code",
      "metadata": {
        "colab": {
          "base_uri": "https://localhost:8080/"
        },
        "id": "DksfKlD68A_K",
        "outputId": "3d585f5a-354c-4d6b-fd06-78a0e9a67dd8"
      },
      "source": [
        "min = the_list [0]\n",
        "for i in range(len(the_list)):\n",
        "  if the_list[i]<min:\n",
        "    min = the_list[i]\n",
        "    \n",
        "print(\"Minimum number from list is\", min)"
      ],
      "execution_count": 15,
      "outputs": [
        {
          "output_type": "stream",
          "name": "stdout",
          "text": [
            "Minimum number from list is 2\n"
          ]
        }
      ]
    },
    {
      "cell_type": "markdown",
      "metadata": {
        "id": "KMxbhb5DA_qy"
      },
      "source": [
        "## Getting the \"Maximum number\" from the list"
      ]
    },
    {
      "cell_type": "code",
      "metadata": {
        "colab": {
          "base_uri": "https://localhost:8080/"
        },
        "id": "UpysWeij9jqt",
        "outputId": "342fa8ce-a9b7-480e-b530-63c9b135f078"
      },
      "source": [
        "max = the_list [0]\n",
        "for i in range(len(the_list)):\n",
        "  if the_list[i]>max:\n",
        "    max = the_list[i]\n",
        "print(\"Maximum number in list is\", max)"
      ],
      "execution_count": 17,
      "outputs": [
        {
          "output_type": "stream",
          "name": "stdout",
          "text": [
            "Maximum number in list is 19\n"
          ]
        }
      ]
    },
    {
      "cell_type": "markdown",
      "metadata": {
        "id": "Bdfuve5VBoky"
      },
      "source": [
        "## Range\n",
        "- maximun number in the list minus minimum number in the list\n",
        "\n",
        "\n"
      ]
    },
    {
      "cell_type": "code",
      "metadata": {
        "colab": {
          "base_uri": "https://localhost:8080/"
        },
        "id": "ATHepJxZ95Dw",
        "outputId": "d3e40418-81b6-4788-9dec-14b775ce8d24"
      },
      "source": [
        "print(\"Range is =\", max - min)"
      ],
      "execution_count": 18,
      "outputs": [
        {
          "output_type": "stream",
          "name": "stdout",
          "text": [
            "Range is = 17\n"
          ]
        }
      ]
    },
    {
      "cell_type": "markdown",
      "metadata": {
        "id": "v8Kn1YjDI-IJ"
      },
      "source": [
        "## Variance \n",
        "- It is the gap between mean and the data points. \n",
        "- Finding the mean(the average).\n",
        "- Subtracting the mean from each number in the data set and then squaring the result. The results are squared to make the negatives positive.\n",
        "- Averaging the squared differences."
      ]
    },
    {
      "cell_type": "code",
      "metadata": {
        "colab": {
          "base_uri": "https://localhost:8080/"
        },
        "id": "N16klzNkJogN",
        "outputId": "89a1f870-9f9b-4cd3-aabb-6be640c56a0a"
      },
      "source": [
        "Variance = the_list [0]\n",
        "Variance = sum((i - mean) ** 2 for i in the_list) / len(the_list)\n",
        "print(\"Variance of list is\", Variance)"
      ],
      "execution_count": 30,
      "outputs": [
        {
          "output_type": "stream",
          "name": "stdout",
          "text": [
            "Variance of list is 22.25\n"
          ]
        }
      ]
    },
    {
      "cell_type": "markdown",
      "metadata": {
        "id": "sWntte9nN0e_"
      },
      "source": [
        "## Standard Deviation \n",
        "- Standard deviation is the square root of variance "
      ]
    },
    {
      "cell_type": "code",
      "metadata": {
        "colab": {
          "base_uri": "https://localhost:8080/"
        },
        "id": "1i9WSogoMf6d",
        "outputId": "77dc35f7-c395-4a29-f57e-7e4414d039a0"
      },
      "source": [
        "Standard_Deviation = Variance ** 0.5\n",
        "print(\"Standard Deviation of list is =\", Standard_Deviation)"
      ],
      "execution_count": 32,
      "outputs": [
        {
          "output_type": "stream",
          "name": "stdout",
          "text": [
            "Standard Deviation of list is = 4.716990566028302\n"
          ]
        }
      ]
    }
  ]
}