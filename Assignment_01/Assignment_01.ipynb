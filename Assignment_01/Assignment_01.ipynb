{
  "nbformat": 4,
  "nbformat_minor": 0,
  "metadata": {
    "colab": {
      "name": "Assignment_01",
      "provenance": [],
      "authorship_tag": "ABX9TyPFowNjvwX7alG6lyll5FYN",
      "include_colab_link": true
    },
    "kernelspec": {
      "name": "python3",
      "display_name": "Python 3"
    },
    "language_info": {
      "name": "python"
    }
  },
  "cells": [
    {
      "cell_type": "markdown",
      "metadata": {
        "id": "view-in-github",
        "colab_type": "text"
      },
      "source": [
        "<a href=\"https://colab.research.google.com/github/Likhith1702/data690_likhith/blob/main/Assignment_01/Assignment_01.ipynb\" target=\"_parent\"><img src=\"https://colab.research.google.com/assets/colab-badge.svg\" alt=\"Open In Colab\"/></a>"
      ]
    },
    {
      "cell_type": "markdown",
      "metadata": {
        "id": "TzQXaL2AP1_c"
      },
      "source": [
        "# Assignment 01 for DATA 690 FALL 2021\n",
        "\n",
        "- Professor: Dr. Chaojie Wang\n",
        "- Student: Likhith Kumar Reddy\n",
        "- Date: 09/02/2021\n",
        "- Session 1\n",
        "\n",
        "This is a practice session to use Jupyter Notebook"
      ]
    },
    {
      "cell_type": "markdown",
      "metadata": {
        "id": "PkhGs_ZjQnal"
      },
      "source": [
        "## 1. Simplest Python Code"
      ]
    },
    {
      "cell_type": "code",
      "metadata": {
        "colab": {
          "base_uri": "https://localhost:8080/"
        },
        "id": "7Ho_kMDQQyA3",
        "outputId": "b27c257e-049b-409a-92a7-cfce45331806"
      },
      "source": [
        "print (\"Hello class\")"
      ],
      "execution_count": 1,
      "outputs": [
        {
          "output_type": "stream",
          "name": "stdout",
          "text": [
            "Hello class\n"
          ]
        }
      ]
    },
    {
      "cell_type": "markdown",
      "metadata": {
        "id": "4UPjYEUhRM6d"
      },
      "source": [
        "## 2. Simple Multipliction"
      ]
    },
    {
      "cell_type": "code",
      "metadata": {
        "colab": {
          "base_uri": "https://localhost:8080/"
        },
        "id": "Iy9FBcPyRiz_",
        "outputId": "8be23d90-af2c-49ac-b6e5-3c9b6da05f8b"
      },
      "source": [
        "x=2*5\n",
        "print (x)"
      ],
      "execution_count": 6,
      "outputs": [
        {
          "output_type": "stream",
          "name": "stdout",
          "text": [
            "10\n"
          ]
        }
      ]
    },
    {
      "cell_type": "markdown",
      "metadata": {
        "id": "ehuwVSJESFgH"
      },
      "source": [
        "## 3 Simple Division"
      ]
    },
    {
      "cell_type": "code",
      "metadata": {
        "colab": {
          "base_uri": "https://localhost:8080/"
        },
        "id": "iV7KFQpOSNI9",
        "outputId": "02bb4ec2-f6de-408c-94a5-9714b1a73635"
      },
      "source": [
        "y = 200\n",
        "z = y/x\n",
        "print (z)"
      ],
      "execution_count": 9,
      "outputs": [
        {
          "output_type": "stream",
          "name": "stdout",
          "text": [
            "20.0\n"
          ]
        }
      ]
    }
  ]
}