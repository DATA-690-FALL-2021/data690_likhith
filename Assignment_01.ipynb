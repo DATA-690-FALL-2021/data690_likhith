{
  "nbformat": 4,
  "nbformat_minor": 0,
  "metadata": {
    "colab": {
      "name": "Assignment_01",
      "provenance": [],
      "authorship_tag": "ABX9TyOSR0EVAVYHBXlWuL7aQXN8",
      "include_colab_link": true
    },
    "kernelspec": {
      "name": "python3",
      "display_name": "Python 3"
    },
    "language_info": {
      "name": "python"
    }
  },
  "cells": [
    {
      "cell_type": "markdown",
      "metadata": {
        "id": "view-in-github",
        "colab_type": "text"
      },
      "source": [
        "<a href=\"https://colab.research.google.com/github/Likhith1702/data690_likhith/blob/main/Assignment_01.ipynb\" target=\"_parent\"><img src=\"https://colab.research.google.com/assets/colab-badge.svg\" alt=\"Open In Colab\"/></a>"
      ]
    },
    {
      "cell_type": "markdown",
      "metadata": {
        "id": "TzQXaL2AP1_c"
      },
      "source": [
        "# Assignment 01 for DATA 690 FALL 2021\n",
        "\n",
        "- Professor: Dr. Chaojie Wang\n",
        "- Student: Likhith Kumar Reddy\n",
        "- Date: 09/02/2021\n",
        "- Session 1\n",
        "\n",
        "This is a practice session to use Jupyter Notebook"
      ]
    },
    {
      "cell_type": "markdown",
      "metadata": {
        "id": "PkhGs_ZjQnal"
      },
      "source": [
        "## 1. Simplest Python Code"
      ]
    },
    {
      "cell_type": "code",
      "metadata": {
        "colab": {
          "base_uri": "https://localhost:8080/"
        },
        "id": "7Ho_kMDQQyA3",
        "outputId": "b27c257e-049b-409a-92a7-cfce45331806"
      },
      "source": [
        "print (\"Hello class\")"
      ],
      "execution_count": 1,
      "outputs": [
        {
          "output_type": "stream",
          "name": "stdout",
          "text": [
            "Hello class\n"
          ]
        }
      ]
    },
    {
      "cell_type": "markdown",
      "metadata": {
        "id": "4UPjYEUhRM6d"
      },
      "source": [
        "## 2. Simple Multipliction"
      ]
    },
    {
      "cell_type": "code",
      "metadata": {
        "colab": {
          "base_uri": "https://localhost:8080/"
        },
        "id": "Iy9FBcPyRiz_",
        "outputId": "d17e6ce5-206c-4e3d-92e8-7a65ed00f351"
      },
      "source": [
        "x=2*5\n",
        "print (x)"
      ],
      "execution_count": 5,
      "outputs": [
        {
          "output_type": "stream",
          "name": "stdout",
          "text": [
            "10\n"
          ]
        }
      ]
    }
  ]
}